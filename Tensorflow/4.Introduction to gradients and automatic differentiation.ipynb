{
  "cells": [
    {
      "cell_type": "markdown",
      "metadata": {
        "id": "view-in-github",
        "colab_type": "text"
      },
      "source": [
        "<a href=\"https://colab.research.google.com/github/leeyuuj/Deep-Learning-portfolio/blob/main/Tensorflow/4.Introduction%20to%20gradients%20and%20automatic%20differentiation.ipynb\" target=\"_parent\"><img src=\"https://colab.research.google.com/assets/colab-badge.svg\" alt=\"Open In Colab\"/></a>"
      ]
    },
    {
      "cell_type": "markdown",
      "metadata": {
        "id": "Tce3stUlHN0L"
      },
      "source": [
        "##### Copyright 2020 The TensorFlow Authors."
      ]
    },
    {
      "cell_type": "code",
      "execution_count": null,
      "metadata": {
        "id": "tuOe1ymfHZPu",
        "cellView": "form"
      },
      "outputs": [],
      "source": [
        "#@title Licensed under the Apache License, Version 2.0 (the \"License\");\n",
        "# you may not use this file except in compliance with the License.\n",
        "# You may obtain a copy of the License at\n",
        "#\n",
        "# https://www.apache.org/licenses/LICENSE-2.0\n",
        "#\n",
        "# Unless required by applicable law or agreed to in writing, software\n",
        "# distributed under the License is distributed on an \"AS IS\" BASIS,\n",
        "# WITHOUT WARRANTIES OR CONDITIONS OF ANY KIND, either express or implied.\n",
        "# See the License for the specific language governing permissions and\n",
        "# limitations under the License."
      ]
    },
    {
      "cell_type": "markdown",
      "metadata": {
        "id": "qFdPvlXBOdUN"
      },
      "source": [
        "# Introduction to gradients and automatic differentiation"
      ]
    },
    {
      "cell_type": "markdown",
      "metadata": {
        "id": "MfBg1C5NB3X0"
      },
      "source": [
        "<table class=\"tfo-notebook-buttons\" align=\"left\">\n",
        "  <td>\n",
        "    <a target=\"_blank\" href=\"https://www.tensorflow.org/guide/autodiff\"><img src=\"https://www.tensorflow.org/images/tf_logo_32px.png\" />View on TensorFlow.org</a>\n",
        "  </td>\n",
        "  <td>\n",
        "    <a target=\"_blank\" href=\"https://colab.research.google.com/github/tensorflow/docs/blob/master/site/en/guide/autodiff.ipynb\"><img src=\"https://www.tensorflow.org/images/colab_logo_32px.png\" />Run in Google Colab</a>\n",
        "  </td>\n",
        "  <td>\n",
        "    <a target=\"_blank\" href=\"https://github.com/tensorflow/docs/blob/master/site/en/guide/autodiff.ipynb\"><img src=\"https://www.tensorflow.org/images/GitHub-Mark-32px.png\" />View source on GitHub</a>\n",
        "  </td>\n",
        "  <td>\n",
        "    <a href=\"https://storage.googleapis.com/tensorflow_docs/docs/site/en/guide/autodiff.ipynb\"><img src=\"https://www.tensorflow.org/images/download_logo_32px.png\" />Download notebook</a>\n",
        "  </td>\n",
        "</table>"
      ]
    },
    {
      "cell_type": "markdown",
      "metadata": {
        "id": "r6P32iYYV27b"
      },
      "source": [
        "## Automatic Differentiation and Gradients\n",
        "\n",
        "[Automatic differentiation](https://en.wikipedia.org/wiki/Automatic_differentiation)\n",
        "is useful for implementing machine learning algorithms such as\n",
        "[backpropagation](https://en.wikipedia.org/wiki/Backpropagation) for training\n",
        "neural networks.\n",
        "\n",
        "In this guide, you will explore ways to compute gradients with TensorFlow, especially in eager execution."
      ]
    },
    {
      "cell_type": "markdown",
      "source": [
        "자동 미분 및 그래디언트\n",
        "\n",
        "[자동 미분](https://en.wikipedia.org/wiki/Automatic_differentiation)은 신경망 학습을 위한 [역전파](https://en.wikipedia.org/wiki/Backpropagation)와 같은 머신러닝 알고리즘을 구현하는 데 유용합니다.\n",
        "\n",
        "이 가이드에서는 특히 [즉시 실행](eager.ipynb)에서 TensorFlow로 그래디언트를 계산하는 방법을 알아봅니다."
      ],
      "metadata": {
        "id": "6aqmT0WP1Vdv"
      }
    },
    {
      "cell_type": "markdown",
      "metadata": {
        "id": "MUXex9ctTuDB"
      },
      "source": [
        "## Setup"
      ]
    },
    {
      "cell_type": "code",
      "execution_count": null,
      "metadata": {
        "id": "IqR2PQG4ZaZ0"
      },
      "outputs": [],
      "source": [
        "import numpy as np\n",
        "import matplotlib.pyplot as plt\n",
        "\n",
        "import tensorflow as tf"
      ]
    },
    {
      "cell_type": "markdown",
      "metadata": {
        "id": "xHxb-dlhMIzW"
      },
      "source": [
        "## Computing gradients\n",
        "\n",
        "To differentiate automatically, TensorFlow needs to remember what operations happen in what order during the *forward* pass.  Then, during the *backward pass*, TensorFlow traverses this list of operations in reverse order to compute gradients."
      ]
    },
    {
      "cell_type": "markdown",
      "source": [
        "그래디언트 계산하기\n",
        "\n",
        "자동으로 미분하기 위해 TensorFlow는 *정방향 패스* 동안 어떤 연산이 어떤 순서로 발생하는지 기억해야 합니다. 그런 다음 *역방향 패스* 동안 TensorFlow는 이 Ops 목록을 역순으로 이동하여 그래디언트를 계산합니다."
      ],
      "metadata": {
        "id": "84HWXTwS1Ykv"
      }
    },
    {
      "cell_type": "markdown",
      "metadata": {
        "id": "1CLWJl0QliB0"
      },
      "source": [
        "## Gradient tapes\n",
        "\n",
        "TensorFlow provides the `tf.GradientTape` API for automatic differentiation; that is, computing the gradient of a computation with respect to some inputs, usually `tf.Variable`s.\n",
        "TensorFlow \"records\" relevant operations executed inside the context of a `tf.GradientTape` onto a \"tape\". TensorFlow then uses that tape to compute the gradients of a \"recorded\" computation using [reverse mode differentiation](https://en.wikipedia.org/wiki/Automatic_differentiation).\n",
        "\n",
        "Here is a simple example:"
      ]
    },
    {
      "cell_type": "markdown",
      "source": [
        "그래디언트 테이프\n",
        "\n",
        "텐서플로는 자동 미분(주어진 입력 변수에 대한 연산의 그래디언트(gradient)를 계산하는 것)을 위한 [tf.GradientTape](https://www.tensorflow.org/api_docs/python/tf/GradientTape) API를 제공합니다. `tf.GradientTape`는 컨텍스트(context) 안에서 실행된 모든 연산을 테이프(tape)에 \"기록\"합니다. 그 다음 텐서플로는 [후진 방식 자동 미분(reverse mode differentiation)](https://en.wikipedia.org/wiki/Automatic_differentiation)을 사용해 테이프에 \"기록된\" 연산의 그래디언트를 계산합니다.\n",
        "\n",
        "예를 들면:"
      ],
      "metadata": {
        "id": "A-ZGYasn1azX"
      }
    },
    {
      "cell_type": "code",
      "execution_count": null,
      "metadata": {
        "id": "Xq9GgTCP7a4A"
      },
      "outputs": [],
      "source": [
        "x = tf.Variable(3.0)\n",
        "\n",
        "with tf.GradientTape() as tape:           # persistence = False : 휘발성 한번쓰면 저장안하기때문에 두번째쓸때 error남\n",
        "  y = x**2                                # context(문맥) : tape에 기록한다   forward prop"
      ]
    },
    {
      "cell_type": "markdown",
      "metadata": {
        "id": "CR9tFAP_7cra"
      },
      "source": [
        "Once you've recorded some operations, use `GradientTape.gradient(target, sources)` to calculate the gradient of some target (often a loss) relative to some source (often the model's variables):"
      ]
    },
    {
      "cell_type": "markdown",
      "source": [
        "일부 연산을 기록한 후에는 `GradientTape.gradient(target, sources)`를 사용하여 일부 소스(종종 모델 변수)에 상대적인 일부 대상(종종 손실)의 그래디언트를 계산합니다."
      ],
      "metadata": {
        "id": "Tu5A1Mi3Hcgp"
      }
    },
    {
      "cell_type": "code",
      "execution_count": null,
      "metadata": {
        "id": "LsvrwF6bHroC",
        "colab": {
          "base_uri": "https://localhost:8080/"
        },
        "outputId": "bb36f4ce-4fed-4ce8-c159-f3ee2887d485"
      },
      "outputs": [
        {
          "output_type": "stream",
          "name": "stdout",
          "text": [
            "tf.Tensor(6.0, shape=(), dtype=float32)\n"
          ]
        }
      ],
      "source": [
        "# dy = 2x * dx\n",
        "dy_dx = tape.gradient(y, x)         # 호출하면 GradientTape 종료됨\n",
        "dy_dx.numpy()                       # print(dy_dx.numpy()) => 6.0  출력             # type(dy_dx.numpy()) = <class 'numpy.float32'>\n",
        "print(dy_dx)                        # 리턴값 텐서                                   # type(dy_dx) = <class 'tensorflow.python.framework.ops.EagerTensor'>>"
      ]
    },
    {
      "cell_type": "code",
      "source": [
        "dy_dx = tape.gradient(y, x)                     # A non-persistent"
      ],
      "metadata": {
        "colab": {
          "base_uri": "https://localhost:8080/",
          "height": 300
        },
        "id": "Zpy3tLmWIkZC",
        "outputId": "48deb8ab-c866-4cf3-efb0-80b72b6d29e3"
      },
      "execution_count": null,
      "outputs": [
        {
          "output_type": "error",
          "ename": "RuntimeError",
          "evalue": "ignored",
          "traceback": [
            "\u001b[0;31m---------------------------------------------------------------------------\u001b[0m",
            "\u001b[0;31mRuntimeError\u001b[0m                              Traceback (most recent call last)",
            "\u001b[0;32m<ipython-input-4-6dadce29e476>\u001b[0m in \u001b[0;36m<module>\u001b[0;34m\u001b[0m\n\u001b[0;32m----> 1\u001b[0;31m \u001b[0mdy_dx\u001b[0m \u001b[0;34m=\u001b[0m \u001b[0mtape\u001b[0m\u001b[0;34m.\u001b[0m\u001b[0mgradient\u001b[0m\u001b[0;34m(\u001b[0m\u001b[0my\u001b[0m\u001b[0;34m,\u001b[0m \u001b[0mx\u001b[0m\u001b[0;34m)\u001b[0m                     \u001b[0;31m# A non-persistent\u001b[0m\u001b[0;34m\u001b[0m\u001b[0;34m\u001b[0m\u001b[0m\n\u001b[0m",
            "\u001b[0;32m/usr/local/lib/python3.7/dist-packages/tensorflow/python/eager/backprop.py\u001b[0m in \u001b[0;36mgradient\u001b[0;34m(self, target, sources, output_gradients, unconnected_gradients)\u001b[0m\n\u001b[1;32m   1027\u001b[0m     \"\"\"\n\u001b[1;32m   1028\u001b[0m     \u001b[0;32mif\u001b[0m \u001b[0mself\u001b[0m\u001b[0;34m.\u001b[0m\u001b[0m_tape\u001b[0m \u001b[0;32mis\u001b[0m \u001b[0;32mNone\u001b[0m\u001b[0;34m:\u001b[0m\u001b[0;34m\u001b[0m\u001b[0;34m\u001b[0m\u001b[0m\n\u001b[0;32m-> 1029\u001b[0;31m       raise RuntimeError(\"A non-persistent GradientTape can only be used to \"\n\u001b[0m\u001b[1;32m   1030\u001b[0m                          \"compute one set of gradients (or jacobians)\")\n\u001b[1;32m   1031\u001b[0m     \u001b[0;32mif\u001b[0m \u001b[0mself\u001b[0m\u001b[0;34m.\u001b[0m\u001b[0m_recording\u001b[0m\u001b[0;34m:\u001b[0m\u001b[0;34m\u001b[0m\u001b[0;34m\u001b[0m\u001b[0m\n",
            "\u001b[0;31mRuntimeError\u001b[0m: A non-persistent GradientTape can only be used to compute one set of gradients (or jacobians)"
          ]
        }
      ]
    },
    {
      "cell_type": "markdown",
      "metadata": {
        "id": "Q2_aqsO25Vx1"
      },
      "source": [
        "The above example uses scalars, but `tf.GradientTape` works as easily on any tensor:"
      ]
    },
    {
      "cell_type": "markdown",
      "source": [
        "위의 예제는 스칼라(소스가 스칼라)를 사용하지만, `tf.GradientTape`는 모든 텐서에서 쉽게 작동합니다."
      ],
      "metadata": {
        "id": "qr4FwjZuhZUx"
      }
    },
    {
      "cell_type": "code",
      "execution_count": null,
      "metadata": {
        "id": "vacZ3-Ws5VdV"
      },
      "outputs": [],
      "source": [
        "w = tf.Variable(tf.random.normal((3, 2)), name='w')             # (3,2)array의 정규분포값 \n",
        "b = tf.Variable(tf.zeros(2, dtype=tf.float32), name='b')\n",
        "x = [[1., 2., 3.]]\n",
        "\n",
        "with tf.GradientTape(persistent=True) as tape:                  # persistent(영속성) = True : 비휘발성 (계속 유지한다), default : False\n",
        "  y = x @ w + b                                                 # ops : @, +\n",
        "  loss = tf.reduce_mean(y**2)                                   #       reduce_mean : 평균값구하는 함수"
      ]
    },
    {
      "cell_type": "markdown",
      "metadata": {
        "id": "i4eXOkrQ-9Pb"
      },
      "source": [
        "To get the gradient of `loss` with respect to both variables, you can pass both as sources to the `gradient` method. The tape is flexible about how sources are passed and will accept any nested combination of lists or dictionaries and return the gradient structured the same way (see `tf.nest`)."
      ]
    },
    {
      "cell_type": "markdown",
      "source": [
        "두 변수 모두에 대해 `loss`의 그래디언트를 가져오려면, 두 변수를 `gradient `메서드에 소스로 전달할 수 있습니다. 테이프는 소스가 전달되는 방식에 대해 융통성이 있으며 list 또는 dictionaries의 중첩된 조합을 허용하고 같은 방식으로 구조화된 그래디언트를 반환합니다(`tf.nest` 참조)."
      ],
      "metadata": {
        "id": "u3OCnzgs8Nn6"
      }
    },
    {
      "cell_type": "code",
      "execution_count": null,
      "metadata": {
        "id": "luOtK1Da_BR0",
        "colab": {
          "base_uri": "https://localhost:8080/"
        },
        "outputId": "bf544d92-db7d-4f2d-8260-fed34a401169"
      },
      "outputs": [
        {
          "output_type": "stream",
          "name": "stdout",
          "text": [
            "tf.Tensor(\n",
            "[[ 0.9190074  3.341651 ]\n",
            " [ 1.8380148  6.683302 ]\n",
            " [ 2.7570224 10.024953 ]], shape=(3, 2), dtype=float32)\n",
            "tf.Tensor([0.9190074 3.341651 ], shape=(2,), dtype=float32)\n"
          ]
        }
      ],
      "source": [
        "[dl_dw, dl_db] = tape.gradient(loss, [w, b])                # [w, b] :소스\n",
        "\n",
        "print(dl_dw)\n",
        "print(dl_db)"
      ]
    },
    {
      "cell_type": "markdown",
      "metadata": {
        "id": "Ei4iVXi6qgM7"
      },
      "source": [
        "The gradient with respect to each source has the shape of the source:"
      ]
    },
    {
      "cell_type": "code",
      "execution_count": null,
      "metadata": {
        "id": "aYbWRFPZqk4U",
        "colab": {
          "base_uri": "https://localhost:8080/"
        },
        "outputId": "10d0ac8a-c39d-4cb1-9d9b-c4e7809c5a59"
      },
      "outputs": [
        {
          "output_type": "stream",
          "name": "stdout",
          "text": [
            "(3, 2)\n",
            "(3, 2)\n"
          ]
        }
      ],
      "source": [
        "print(w.shape)\n",
        "print(dl_dw.shape)"
      ]
    },
    {
      "cell_type": "markdown",
      "metadata": {
        "id": "dI_SzxHsvao1"
      },
      "source": [
        "Here is the gradient calculation again, this time passing a dictionary of variables:"
      ]
    },
    {
      "cell_type": "code",
      "execution_count": null,
      "metadata": {
        "id": "d73cY6NOuaMd",
        "colab": {
          "base_uri": "https://localhost:8080/"
        },
        "outputId": "8b882c52-ba60-4519-8d9a-1c46e915ea74"
      },
      "outputs": [
        {
          "output_type": "stream",
          "name": "stdout",
          "text": [
            "tf.Tensor(\n",
            "[[-0.45082402  3.4077132 ]\n",
            " [-0.90164804  6.8154263 ]\n",
            " [-1.3524721  10.22314   ]], shape=(3, 2), dtype=float32)\n",
            "tf.Tensor([-0.45082402  3.4077132 ], shape=(2,), dtype=float32)\n"
          ]
        }
      ],
      "source": [
        "my_vars = {\n",
        "    'w': w,\n",
        "    'b': b\n",
        "}\n",
        "\n",
        "grad = tape.gradient(loss, my_vars)\n",
        "print(grad['w'])\n",
        "print(grad['b'])"
      ]
    },
    {
      "cell_type": "code",
      "source": [
        "del tape      # 호출한후 날리기\n",
        "\n",
        "grad = tape.gradient(loss, my_vars)"
      ],
      "metadata": {
        "colab": {
          "base_uri": "https://localhost:8080/",
          "height": 211
        },
        "id": "kFVN6VWOJujS",
        "outputId": "68797209-d2c6-4aae-c71a-3bb5753df45e"
      },
      "execution_count": null,
      "outputs": [
        {
          "output_type": "error",
          "ename": "NameError",
          "evalue": "ignored",
          "traceback": [
            "\u001b[0;31m---------------------------------------------------------------------------\u001b[0m",
            "\u001b[0;31mNameError\u001b[0m                                 Traceback (most recent call last)",
            "\u001b[0;32m<ipython-input-21-e08b821d8c48>\u001b[0m in \u001b[0;36m<module>\u001b[0;34m\u001b[0m\n\u001b[1;32m      1\u001b[0m \u001b[0;32mdel\u001b[0m \u001b[0mtape\u001b[0m      \u001b[0;31m# 호출한후 날리기\u001b[0m\u001b[0;34m\u001b[0m\u001b[0;34m\u001b[0m\u001b[0m\n\u001b[1;32m      2\u001b[0m \u001b[0;34m\u001b[0m\u001b[0m\n\u001b[0;32m----> 3\u001b[0;31m \u001b[0mgrad\u001b[0m \u001b[0;34m=\u001b[0m \u001b[0mtape\u001b[0m\u001b[0;34m.\u001b[0m\u001b[0mgradient\u001b[0m\u001b[0;34m(\u001b[0m\u001b[0mloss\u001b[0m\u001b[0;34m,\u001b[0m \u001b[0mmy_vars\u001b[0m\u001b[0;34m)\u001b[0m\u001b[0;34m\u001b[0m\u001b[0;34m\u001b[0m\u001b[0m\n\u001b[0m",
            "\u001b[0;31mNameError\u001b[0m: name 'tape' is not defined"
          ]
        }
      ]
    },
    {
      "cell_type": "markdown",
      "metadata": {
        "id": "HZ2LvHifEMgO"
      },
      "source": [
        "## Gradients with respect to a model\n",
        "\n",
        "It's common to collect `tf.Variables` into a `tf.Module` or one of its subclasses (`layers.Layer`, `keras.Model`) for [checkpointing](checkpoint.ipynb) and [exporting](saved_model.ipynb).\n",
        "\n",
        "In most cases, you will want to calculate gradients with respect to a model's trainable variables.  Since all subclasses of `tf.Module` aggregate their variables in the `Module.trainable_variables` property, you can calculate these gradients in a few lines of code: "
      ]
    },
    {
      "cell_type": "markdown",
      "source": [
        "검사점 설정 및 내보내기를 위해 `tf.Variables`를 `tf.Module` 또는 해당 서브 클래스(`layers.Layer`와 `keras.Model`) 중 하나로 수집하는 것이 일반적입니다.\n",
        "\n",
        "대부분의 경우 모델의 훈련 가능한 변수에 대한 그래디언트를 계산하려고 합니다. `tf.Module`의 모든 서브 클래스는 `Module.trainable_variables` 속성에서 변수를 집계하므로 몇 줄의 코드로 이러한 그래디언트를 계산할 수 있습니다."
      ],
      "metadata": {
        "id": "W71AvlC9KJNi"
      }
    },
    {
      "cell_type": "markdown",
      "source": [
        "소스: 클래스인 경우"
      ],
      "metadata": {
        "id": "dl_lLO-TJ9Bq"
      }
    },
    {
      "cell_type": "code",
      "execution_count": null,
      "metadata": {
        "id": "JvesHtbQESc-"
      },
      "outputs": [],
      "source": [
        "layer = tf.keras.layers.Dense(2, activation='relu')   # Dense는 keras에서 지원해주는 hidden layer[Full connected layer] , hidden layer에 노드 2개\n",
        "# 현재 layer의 weight 파라미터의 갯수를 알수있는가? 모름\n",
        "# 그러나 bias의 갯수는 알 수 있다. => 노드 2개니까 2개\n",
        "\n",
        "\n",
        "x = tf.constant([[1., 2., 3.]])\n",
        "\n",
        "with tf.GradientTape() as tape:\n",
        "  # Forward pass\n",
        "  y = layer(x)          # 파라미터 2*3 = 6개      # 레이어 : 콜러블 객체\n",
        "  # 이제 layer의 weight 파라미터 갯수를 알 수 있다.\n",
        "  loss = tf.reduce_mean(y**2)"
      ]
    },
    {
      "cell_type": "code",
      "source": [
        "print(layer.trainable_variables)      # kernel : weight  bias : 초기화 0, 0 "
      ],
      "metadata": {
        "colab": {
          "base_uri": "https://localhost:8080/"
        },
        "id": "xj0QCu3MLTth",
        "outputId": "4a79c298-1ab7-4cb3-b45c-e7517a4ccf34"
      },
      "execution_count": null,
      "outputs": [
        {
          "output_type": "stream",
          "name": "stdout",
          "text": [
            "[<tf.Variable 'dense_5/kernel:0' shape=(3, 2) dtype=float32, numpy=\n",
            "array([[ 0.0034107 , -0.05221558],\n",
            "       [ 0.12703133,  0.31041837],\n",
            "       [ 0.29805863,  0.30371845]], dtype=float32)>, <tf.Variable 'dense_5/bias:0' shape=(2,) dtype=float32, numpy=array([0., 0.], dtype=float32)>]\n"
          ]
        }
      ]
    },
    {
      "cell_type": "code",
      "source": [
        "# layer.trainable = False    # Gradient Tape context 외부에서 설정을 해도 적용이 된다."
      ],
      "metadata": {
        "id": "yyawcE6LM1hC"
      },
      "execution_count": null,
      "outputs": []
    },
    {
      "cell_type": "code",
      "source": [
        "# Calculate gradients with respect to every trainable variable\n",
        "grad = tape.gradient(loss, layer.trainable_variables)             # Dense:6개를 trainable_variables로 weight parameter를 퉁친다\n",
        "print(grad)"
      ],
      "metadata": {
        "colab": {
          "base_uri": "https://localhost:8080/"
        },
        "id": "f_v-_1IrLQyS",
        "outputId": "283c7c0f-dec8-4645-9c9d-f3449417f5a1"
      },
      "execution_count": null,
      "outputs": [
        {
          "output_type": "stream",
          "name": "stdout",
          "text": [
            "[<tf.Tensor: shape=(3, 2), dtype=float32, numpy=\n",
            "array([[0.6713717, 0.       ],\n",
            "       [1.3427434, 0.       ],\n",
            "       [2.014115 , 0.       ]], dtype=float32)>, <tf.Tensor: shape=(2,), dtype=float32, numpy=array([0.6713717, 0.       ], dtype=float32)>]\n"
          ]
        }
      ]
    },
    {
      "cell_type": "code",
      "execution_count": null,
      "metadata": {
        "id": "PR_ezr6UFrpI",
        "colab": {
          "base_uri": "https://localhost:8080/"
        },
        "outputId": "acd79f55-c45f-4116-8750-9272aaf28f61"
      },
      "outputs": [
        {
          "output_type": "stream",
          "name": "stdout",
          "text": [
            "dense/kernel:0, shape: (3, 2)\n",
            "dense/bias:0, shape: (2,)\n"
          ]
        }
      ],
      "source": [
        "for var, g in zip(layer.trainable_variables, grad):\n",
        "  print(f'{var.name}, shape: {g.shape}')                  # kernel을 weight로 생각하면 된다."
      ]
    },
    {
      "cell_type": "markdown",
      "source": [
        "### zip() 기본 문법"
      ],
      "metadata": {
        "id": "z2PwZWSP_4c1"
      }
    },
    {
      "cell_type": "markdown",
      "source": [
        "zip() 함수는 여러 개의 순회 가능한(iterable) 객체를 인자로 받고, 각 객체가 담고 있는 원소를 tuple의 형태로 차례로 접근할 수 있는 반복자(iterator)를 반환"
      ],
      "metadata": {
        "id": "qvxA80R3_5HX"
      }
    },
    {
      "cell_type": "code",
      "source": [
        "numbers = [1, 2, 3]\n",
        "letters = [\"A\", \"B\", \"C\"]\n",
        "for pair in zip(numbers, letters):\n",
        "  print(pair)"
      ],
      "metadata": {
        "colab": {
          "base_uri": "https://localhost:8080/"
        },
        "id": "h_q66aNB_4O5",
        "outputId": "a3bda9a2-507a-4bb6-c728-bffee46f12f5"
      },
      "execution_count": null,
      "outputs": [
        {
          "output_type": "stream",
          "name": "stdout",
          "text": [
            "(1, 'A')\n",
            "(2, 'B')\n",
            "(3, 'C')\n"
          ]
        }
      ]
    },
    {
      "cell_type": "code",
      "source": [
        "for var, g in zip(layer.trainable_variables, grad):\n",
        "  print(f'{var.name}, shape: {g.shape}')"
      ],
      "metadata": {
        "colab": {
          "base_uri": "https://localhost:8080/"
        },
        "id": "_0yPv8Oo_9To",
        "outputId": "7cefe07e-90b2-419f-ddf6-71df1f4240b8"
      },
      "execution_count": null,
      "outputs": [
        {
          "output_type": "stream",
          "name": "stdout",
          "text": [
            "dense/kernel:0, shape: (3, 2)\n",
            "dense/bias:0, shape: (2,)\n"
          ]
        }
      ]
    },
    {
      "cell_type": "markdown",
      "metadata": {
        "id": "f6Gx6LS714zR"
      },
      "source": [
        "<a id=\"watches\"></a>\n",
        "\n",
        "## Controlling what the tape watches  (기록전 감시한다)"
      ]
    },
    {
      "cell_type": "markdown",
      "metadata": {
        "id": "N4VlqKFzzGaC"
      },
      "source": [
        "The default behavior is to record all operations after accessing a trainable `tf.Variable`. The reasons for this are:\n",
        "\n",
        "* The tape needs to know which operations to record in the forward pass to calculate the gradients in the backwards pass.\n",
        "* The tape holds references to intermediate outputs, so you don't want to record unnecessary operations.\n",
        "* The most common use case involves calculating the gradient of a loss with respect to all a model's trainable variables.\n",
        "\n",
        "For example, the following fails to calculate a gradient because the `tf.Tensor` is not \"watched\" by default, and the `tf.Variable` is not trainable:"
      ]
    },
    {
      "cell_type": "markdown",
      "source": [
        "기본 동작은 훈련 가능한 `tf.Variable`에 액세스한 후 모든 Ops을 기록하는 것입니다. 그 이유는 다음과 같습니다.\n",
        "\n",
        "- 테이프는 역방향 패스의 기울기를 계산하기 위해 정방향 패스에 기록할 Ops을 알아야 합니다.\n",
        "- 테이프는 중간 출력에 대한 참조를 보유하므로 불필요한 Ops을 기록하지 않습니다.\n",
        "- 가장 일반적인 사용 사례는 모든 모델의 훈련 가능한 변수에 대해 loss의 기울기를 계산하는 것입니다.\n",
        "\n",
        "예를 들어, 다음은 `tf.Tensor`가 기본적으로 \"감시\"되지 않고 `tf.Variable`의 `trainable` 속성이 `False`이기 때문에 그래디언트를 계산하지 못합니다."
      ],
      "metadata": {
        "id": "Stp5WxGDhDY-"
      }
    },
    {
      "cell_type": "code",
      "execution_count": null,
      "metadata": {
        "id": "Kj9gPckdB37a",
        "colab": {
          "base_uri": "https://localhost:8080/"
        },
        "outputId": "671e5466-83ac-4f18-8bd1-6617fb8f69ec"
      },
      "outputs": [
        {
          "output_type": "stream",
          "name": "stdout",
          "text": [
            "x1= <tf.Variable 'x1:0' shape=() dtype=float32, numpy=3.0>\n",
            "x2= tf.Tensor(3.0, shape=(), dtype=float32)\n",
            "x3= tf.Tensor(3.0, shape=(), dtype=float32)\n"
          ]
        }
      ],
      "source": [
        "# A trainable variable\n",
        "x0 = tf.Variable(3.0, name='x0')                          # trainable=True watch\n",
        "\n",
        "# Not trainable\n",
        "x1 = tf.Variable(3.0, name='x1', trainable=False)         # immutable\n",
        "print(\"x1=\", x1)\n",
        "\n",
        "# Not a Variable: A variable + tensor returns a tensor.\n",
        "x2 = tf.Variable(2.0, name='x2') + 1.0                    # 1.0 더하는순간 tensor 객체가 되고 immutable이기때문에 감시대상이 안됨\n",
        "print(\"x2=\", x2)\n",
        "\n",
        "# Not a variable\n",
        "x3 = tf.constant(3.0, name='x3')\n",
        "print(\"x3=\", x3)\n"
      ]
    },
    {
      "cell_type": "code",
      "source": [
        "with tf.GradientTape() as tape:\n",
        "  y = (x0**2) + (x1**2) + (x2**2)\n",
        "\n",
        "grad = tape.gradient(y, [x0, x1, x2, x3])\n",
        "\n",
        "for g in grad:\n",
        "  print(\"g = \", g)"
      ],
      "metadata": {
        "colab": {
          "base_uri": "https://localhost:8080/"
        },
        "id": "cUN3ikNHOaqi",
        "outputId": "5a8964f0-ca55-4cfc-9b1f-7c903a19c481"
      },
      "execution_count": null,
      "outputs": [
        {
          "output_type": "stream",
          "name": "stdout",
          "text": [
            "g =  tf.Tensor(6.0, shape=(), dtype=float32)\n",
            "g =  None\n",
            "g =  None\n",
            "g =  None\n"
          ]
        }
      ]
    },
    {
      "cell_type": "markdown",
      "metadata": {
        "id": "RkcpQnLgNxgi"
      },
      "source": [
        "You can list the variables being watched by the tape using the `GradientTape.watched_variables` method:"
      ]
    },
    {
      "cell_type": "markdown",
      "source": [
        "`GradientTape.watched_variables` 메서드를 사용하여 테이프에서 감시 중인 변수를 나열할 수 있습니다."
      ],
      "metadata": {
        "id": "rsKHbs5gO-qK"
      }
    },
    {
      "cell_type": "code",
      "execution_count": null,
      "metadata": {
        "id": "hwNwjW1eAkib",
        "colab": {
          "base_uri": "https://localhost:8080/"
        },
        "outputId": "2adf0e38-57a9-4e31-9b7c-5d96c5a3d3a8"
      },
      "outputs": [
        {
          "output_type": "execute_result",
          "data": {
            "text/plain": [
              "['x0:0']"
            ]
          },
          "metadata": {},
          "execution_count": 27
        }
      ],
      "source": [
        "[var.name for var in tape.watched_variables()]        # 감시대상 타겟이되는걸 조회"
      ]
    },
    {
      "cell_type": "markdown",
      "metadata": {
        "id": "NB9I1uFvB4tf"
      },
      "source": [
        "`tf.GradientTape` provides hooks that give the user control over what is or is not watched.\n",
        "\n",
        "To record gradients with respect to a `tf.Tensor`, you need to call `GradientTape.watch(x)`:"
      ]
    },
    {
      "cell_type": "markdown",
      "source": [
        "`tf.GradientTape`는 사용자가 감시 대상 또는 감시 예외 대상을 제어할 수 있는 후크를 제공합니다.\n",
        "\n",
        "`tf.Tensor`에 대한 그래디언트를 기록하려면 `GradientTape.watch(x)`를 호출해야 합니다."
      ],
      "metadata": {
        "id": "DdH_pbCNhi1O"
      }
    },
    {
      "cell_type": "code",
      "execution_count": null,
      "metadata": {
        "id": "tVN1QqFRDHBK",
        "colab": {
          "base_uri": "https://localhost:8080/"
        },
        "outputId": "29406669-28f6-4d01-b7c7-928706543a18"
      },
      "outputs": [
        {
          "output_type": "stream",
          "name": "stdout",
          "text": [
            "6.0\n"
          ]
        }
      ],
      "source": [
        "x = tf.constant(3.0)                  # 텐서라서 감시대상이 아닌데 \n",
        "with tf.GradientTape() as tape:\n",
        "  tape.watch(x)                       # tape.watch(x)를 기록함으로 감시대상으로 만들수있다, GradientTape의 watched_variables 속성에 반영되지 않는다.\n",
        "  y = x**2\n",
        "\n",
        "# dy = 2x * dx\n",
        "dy_dx = tape.gradient(y, x)\n",
        "print(dy_dx.numpy())"
      ]
    },
    {
      "cell_type": "code",
      "source": [
        "x = tf.constant(3.0)                \n",
        "with tf.GradientTape() as tape:\n",
        "  y = x**2\n",
        "\n",
        "# dy = 2x * dx\n",
        "dy_dx = tape.gradient(y, x)\n",
        "print(dy_dx)"
      ],
      "metadata": {
        "colab": {
          "base_uri": "https://localhost:8080/"
        },
        "id": "wrMEYKiiQepa",
        "outputId": "568a8018-2598-413d-bf72-fdf9f9e843bf"
      },
      "execution_count": null,
      "outputs": [
        {
          "output_type": "stream",
          "name": "stdout",
          "text": [
            "None\n"
          ]
        }
      ]
    },
    {
      "cell_type": "markdown",
      "metadata": {
        "id": "qxsiYnf2DN8K"
      },
      "source": [
        "Conversely, to disable the default behavior of watching all `tf.Variables`, set `watch_accessed_variables=False` when creating the gradient tape. This calculation uses two variables, but only connects the gradient for one of the variables:"
      ]
    },
    {
      "cell_type": "markdown",
      "source": [
        "반대로, 모든 `tf.Variables`을 감시하는 기본 동작을 비활성화하려면, 그래디언트 테이프를 만들 때 `watch_accessed_variables=False`를 설정합니다. 이 계산은 두 가지 변수를 사용하지만, 변수 중 하나의 그래디언트만 연결합니다."
      ],
      "metadata": {
        "id": "TzUWFAEAhvw1"
      }
    },
    {
      "cell_type": "code",
      "execution_count": null,
      "metadata": {
        "id": "7QPzwWvSEwIp"
      },
      "outputs": [],
      "source": [
        "x0 = tf.Variable(0.0)\n",
        "x1 = tf.Variable(10.0)\n",
        "\n",
        "with tf.GradientTape(watch_accessed_variables=False) as tape:         # 감시대상인데 access 못하게\n",
        "  tape.watch(x1)                                                      # x1만 값이나옴\n",
        "  y0 = tf.math.sin(x0)\n",
        "  y1 = tf.nn.softplus(x1)\n",
        "  y = y0 + y1\n",
        "  ys = tf.reduce_sum(y)"
      ]
    },
    {
      "cell_type": "markdown",
      "metadata": {
        "id": "TRduLbE1H2IJ"
      },
      "source": [
        "Since `GradientTape.watch` was not called on `x0`, no gradient is computed with respect to it:"
      ]
    },
    {
      "cell_type": "markdown",
      "source": [
        "`x0`에서 `GradientTape.watch`가 호출되지 않았으므로 이에 대한 그래디언트가 계산되지 않습니다."
      ],
      "metadata": {
        "id": "GBNcL6HNh0K9"
      }
    },
    {
      "cell_type": "code",
      "execution_count": null,
      "metadata": {
        "id": "e6GM-3evH1Sz",
        "colab": {
          "base_uri": "https://localhost:8080/"
        },
        "outputId": "afe68d74-d2e3-42cd-9a83-ebb8a1a14b77"
      },
      "outputs": [
        {
          "output_type": "stream",
          "name": "stdout",
          "text": [
            "dy/dx0: None\n",
            "dy/dx1: tf.Tensor(0.9999546, shape=(), dtype=float32)\n"
          ]
        }
      ],
      "source": [
        "# dys/dx1 = exp(x1) / (1 + exp(x1)) = sigmoid(x1)\n",
        "grad = tape.gradient(ys, {'x0': x0, 'x1': x1})\n",
        "\n",
        "print('dy/dx0:', grad['x0'])\n",
        "print('dy/dx1:', grad['x1'])\n",
        "# print('dy/dx1:', grad['x1'].numpy())"
      ]
    },
    {
      "cell_type": "markdown",
      "metadata": {
        "id": "2g1nKB6P-OnA"
      },
      "source": [
        "## Intermediate results\n",
        "\n",
        "You can also request gradients of the output with respect to intermediate values computed inside the `tf.GradientTape` context."
      ]
    },
    {
      "cell_type": "markdown",
      "source": [
        "`tf.GradientTape` 컨텍스트 내에서 계산된 중간값과 관련하여 출력의 그래디언트를 요청할 수도 있습니다."
      ],
      "metadata": {
        "id": "bPO1SRAFRJWr"
      }
    },
    {
      "cell_type": "code",
      "execution_count": null,
      "metadata": {
        "id": "7XaPRAwUyYms",
        "colab": {
          "base_uri": "https://localhost:8080/"
        },
        "outputId": "2f9a99f4-ea53-475d-c922-77d84232e97a"
      },
      "outputs": [
        {
          "output_type": "stream",
          "name": "stdout",
          "text": [
            "18.0\n"
          ]
        }
      ],
      "source": [
        "x = tf.constant(3.0)\n",
        "\n",
        "with tf.GradientTape() as tape:\n",
        "  tape.watch(x)\n",
        "  y = x * x               # y is intermediate value\n",
        "  z = y * y               # y **2 -> 2y\n",
        "\n",
        "# Use the tape to compute the gradient of z with respect to the\n",
        "# intermediate value y.\n",
        "# dz_dy = 2 * y and y = x ** 2 = 9\n",
        "print(tape.gradient(z, y).numpy())"
      ]
    },
    {
      "cell_type": "markdown",
      "metadata": {
        "id": "ISkXuY7YzIcS"
      },
      "source": [
        "By default, the resources held by a `GradientTape` are released as soon as the `GradientTape.gradient` method is called. To compute multiple gradients over the same computation, create a gradient tape with `persistent=True`. This allows multiple calls to the `gradient` method as resources are released when the tape object is garbage collected. For example:"
      ]
    },
    {
      "cell_type": "markdown",
      "source": [
        "기본적으로, `GradientTape.gradient` 메서드가 호출되면 `GradientTape`가 보유한 리소스가 해제됩니다. 동일한 계산에 대해 여러 그래디언트를 계산하려면 `persistent=True` 그래디언트 테이프를 만듭니다. 이렇게 하면 테이프 객체가 가비지 수집될 때 리소스가 해제되면 `gradient` 메서드를 여러 번 호출할 수 있습니다. 예를 들면 다음과 같습니다."
      ],
      "metadata": {
        "id": "hUBmzxdIiimV"
      }
    },
    {
      "cell_type": "code",
      "execution_count": null,
      "metadata": {
        "id": "zZaCm3-9zVCi",
        "colab": {
          "base_uri": "https://localhost:8080/"
        },
        "outputId": "3e4b1a94-252e-44e0-fc9b-6dc9e081ca2c"
      },
      "outputs": [
        {
          "output_type": "stream",
          "name": "stdout",
          "text": [
            "[  4. 108.]\n",
            "[2. 6.]\n"
          ]
        }
      ],
      "source": [
        "x = tf.constant([1, 3.0])\n",
        "with tf.GradientTape(persistent=True) as tape:\n",
        "  tape.watch(x)\n",
        "  y = x * x\n",
        "  z = y * y\n",
        "\n",
        "print(tape.gradient(z, x).numpy())  # [4.0, 108.0] (4 * x**3 at x = [1.0, 3.0])\n",
        "print(tape.gradient(y, x).numpy())  # [2.0, 6.0] (2 * x at x = [1.0, 3.0])"
      ]
    },
    {
      "cell_type": "code",
      "execution_count": null,
      "metadata": {
        "id": "j8bv_jQFg6CN"
      },
      "outputs": [],
      "source": [
        "del tape   # Drop the reference to the tape"
      ]
    },
    {
      "cell_type": "markdown",
      "metadata": {
        "id": "O_ZY-9BUB7vX"
      },
      "source": [
        "## Notes on performance\n",
        "\n",
        "* There is a tiny overhead associated with doing operations inside a gradient tape context. For most eager execution this will not be a noticeable cost, but you should still use tape context around the areas only where it is required.\n",
        "\n",
        "* Gradient tapes use memory to store intermediate results, including inputs and outputs, for use during the backwards pass.\n",
        "\n",
        "  For efficiency, some ops (like `ReLU`) don't need to keep their intermediate results and they are pruned during the forward pass. However, if you use `persistent=True` on your tape, *nothing is discarded* and your peak memory usage will be higher."
      ]
    },
    {
      "cell_type": "markdown",
      "source": [
        "- 그래디언트 테이프 컨텍스트 내에서 Ops을 수행하는 것과 관련하여 작은 오버헤드가 있습니다. 대부분의 Eager 실행에는 상당한 비용이 들지 않지만, 필요한 경우에만 테이프 컨텍스트를 사용해야 합니다.\n",
        "\n",
        "- 그래디언트 테이프는 메모리를 사용하여 backwards pass 동안 사용하기 위해 입력 및 출력을 포함한 중간 결과(forward동안 생성된 값:activation 값)를 저장합니다. \n",
        "\n",
        "    효율성을 위해 (`ReLU`와 같은) 일부 연산은 중간 결과를 유지할 필요가 없으며 정방향 패스 동안에 정리됩니다. 그러나 테이프에서 `persistent=True`를 사용하면 *아무것도 삭제되지 않으며* 최대 메모리 사용량이 높아집니다."
      ],
      "metadata": {
        "id": "DeeYhilriy8t"
      }
    },
    {
      "cell_type": "markdown",
      "metadata": {
        "id": "9dLBpZsJebFq"
      },
      "source": [
        "## Gradients of non-scalar targets"
      ]
    },
    {
      "cell_type": "markdown",
      "metadata": {
        "id": "7pldU9F5duP2"
      },
      "source": [
        "A gradient is fundamentally an operation on a scalar."
      ]
    },
    {
      "cell_type": "markdown",
      "source": [
        "그래디언트는 기본적으로 스칼라에 대한 연산입니다."
      ],
      "metadata": {
        "id": "OIp1dMqKjQkF"
      }
    },
    {
      "cell_type": "code",
      "execution_count": null,
      "metadata": {
        "id": "qI0sDV_WeXBb",
        "colab": {
          "base_uri": "https://localhost:8080/"
        },
        "outputId": "d0cddcc8-26ea-4eaf-a43a-bf27e12cfd1e"
      },
      "outputs": [
        {
          "output_type": "stream",
          "name": "stdout",
          "text": [
            "4.0\n",
            "-0.25\n"
          ]
        }
      ],
      "source": [
        "x = tf.Variable(2.0)\n",
        "with tf.GradientTape(persistent=True) as tape:\n",
        "  y0 = x**2\n",
        "  y1 = 1 / x\n",
        "\n",
        "print(tape.gradient(y0, x).numpy())\n",
        "print(tape.gradient(y1, x).numpy())"
      ]
    },
    {
      "cell_type": "markdown",
      "metadata": {
        "id": "COEyYp34fxj4"
      },
      "source": [
        "Thus, if you ask for the gradient of multiple targets, the result for each source is:\n",
        "\n",
        "* The gradient of the sum of the targets, or equivalently\n",
        "* The sum of the gradients of each target."
      ]
    },
    {
      "cell_type": "markdown",
      "source": [
        "따라서, 여러 대상의 그래디언트를 요청하면 각 소스의 결과는 다음과 같습니다.\n",
        "\n",
        "* 대상의 합계 또는 그에 상응하는 그래디언트\n",
        "* 각 대상의 그래디언트의 합계"
      ],
      "metadata": {
        "id": "7wHFOB7lSPwj"
      }
    },
    {
      "cell_type": "markdown",
      "source": [
        "아래 코드에서 non-scalar targets은</br>\n",
        "{'y0': y0, 'y1': y1}을 의미한다"
      ],
      "metadata": {
        "id": "8qpL5t8LkeDO"
      }
    },
    {
      "cell_type": "code",
      "execution_count": null,
      "metadata": {
        "id": "o4a6_YOcfWKS",
        "colab": {
          "base_uri": "https://localhost:8080/"
        },
        "outputId": "c6f31120-9f45-4a34-9f70-4a97755634d3"
      },
      "outputs": [
        {
          "output_type": "stream",
          "name": "stdout",
          "text": [
            "3.75\n"
          ]
        }
      ],
      "source": [
        "x = tf.Variable(2.0)\n",
        "with tf.GradientTape() as tape:\n",
        "  y0 = x**2\n",
        "  y1 = 1 / x\n",
        "\n",
        "print(tape.gradient({'y0': y0, 'y1': y1}, x).numpy())"
      ]
    },
    {
      "cell_type": "markdown",
      "metadata": {
        "id": "uvP-mkBMgbym"
      },
      "source": [
        "Similarly, if the target(s) are not scalar the gradient of the sum is calculated:"
      ]
    },
    {
      "cell_type": "markdown",
      "source": [
        "마찬가지로, 대상이 스칼라가 아닌 경우 합계의 그래디언트가 계산됩니다."
      ],
      "metadata": {
        "id": "0dXt1QVSkxQF"
      }
    },
    {
      "cell_type": "code",
      "execution_count": null,
      "metadata": {
        "id": "DArPWqsSh5un",
        "colab": {
          "base_uri": "https://localhost:8080/"
        },
        "outputId": "89cb40b6-ed4f-47e4-fca3-33973a0edac6"
      },
      "outputs": [
        {
          "output_type": "stream",
          "name": "stdout",
          "text": [
            "7.0\n"
          ]
        }
      ],
      "source": [
        "x = tf.Variable(2.)\n",
        "\n",
        "with tf.GradientTape() as tape:\n",
        "  y = x * [3., 4.]            # [3., 4.]x, y' = [3., 4.]\n",
        "\n",
        "print(tape.gradient(y, x).numpy())"
      ]
    },
    {
      "cell_type": "markdown",
      "metadata": {
        "id": "flDbx68Zh5Lb"
      },
      "source": [
        "This makes it simple to take the gradient of the sum of a collection of losses, or the gradient of the sum of an element-wise loss calculation.\n",
        "\n",
        "If you need a separate gradient for each item, refer to [Jacobians](advanced_autodiff.ipynb#jacobians)."
      ]
    },
    {
      "cell_type": "markdown",
      "source": [
        "이렇게 하면, 손실 모음 합계의 기울기(비용함수) 또는 요소별 손실 계산 합계의 그래디언트를 간단하게 구할 수 있습니다.\n",
        "\n",
        "각 항목에 대해 별도의 그래디언트가 필요한 경우, [Jacobians](advanced_autodiff.ipynb#jacobians)을 참조하세요."
      ],
      "metadata": {
        "id": "kZAsErH8k6Zl"
      }
    },
    {
      "cell_type": "markdown",
      "metadata": {
        "id": "iwFswok8RAly"
      },
      "source": [
        "In some cases you can skip the Jacobian. For an element-wise calculation, the gradient of the sum gives the derivative of each element with respect to its input-element, since each element is independent:"
      ]
    },
    {
      "cell_type": "markdown",
      "source": [
        "어떤 경우에는 쟈코비안을 건너뛸 수 있습니다. 요소별 계산의 경우, 각 요소가 독립적이므로 합의 그래디언트는 입력 요소와 관련하여 각 요소의 미분을 제공합니다."
      ],
      "metadata": {
        "id": "8it3JCS-S1ry"
      }
    },
    {
      "cell_type": "code",
      "source": [
        "x = tf.linspace(-10.0, 10.0, 200+1)\n",
        "print(x)      "
      ],
      "metadata": {
        "colab": {
          "base_uri": "https://localhost:8080/"
        },
        "id": "F5zMoMlulVe-",
        "outputId": "26594d8a-c742-4036-c314-6973ad60107d"
      },
      "execution_count": null,
      "outputs": [
        {
          "output_type": "stream",
          "name": "stdout",
          "text": [
            "tf.Tensor(\n",
            "[-10.          -9.9         -9.8         -9.7         -9.6\n",
            "  -9.5         -9.4         -9.3         -9.2         -9.1\n",
            "  -9.          -8.9         -8.8         -8.7         -8.6\n",
            "  -8.5         -8.4         -8.3         -8.2         -8.1\n",
            "  -8.          -7.8999996   -7.8         -7.7         -7.6\n",
            "  -7.5         -7.3999996   -7.3         -7.2         -7.1\n",
            "  -7.          -6.8999996   -6.8         -6.7         -6.6\n",
            "  -6.5         -6.3999996   -6.3         -6.2         -6.1\n",
            "  -6.          -5.9         -5.7999997   -5.7         -5.6\n",
            "  -5.5         -5.4         -5.2999997   -5.2         -5.1\n",
            "  -5.          -4.9         -4.7999997   -4.7         -4.6\n",
            "  -4.5         -4.4         -4.2999997   -4.2         -4.1\n",
            "  -4.          -3.9         -3.7999997   -3.6999998   -3.6\n",
            "  -3.5         -3.4         -3.2999997   -3.1999998   -3.1\n",
            "  -3.          -2.9         -2.7999997   -2.6999998   -2.6\n",
            "  -2.5         -2.4         -2.2999997   -2.1999998   -2.1\n",
            "  -2.          -1.8999996   -1.8000002   -1.6999998   -1.5999994\n",
            "  -1.5         -1.3999996   -1.3000002   -1.1999998   -1.0999994\n",
            "  -1.          -0.8999996   -0.8000002   -0.6999998   -0.5999994\n",
            "  -0.5         -0.39999962  -0.3000002   -0.19999981  -0.09999943\n",
            "   0.           0.10000038   0.19999981   0.3000002    0.40000057\n",
            "   0.5          0.6000004    0.6999998    0.8000002    0.9000006\n",
            "   1.           1.1000004    1.1999998    1.3000002    1.4000006\n",
            "   1.5          1.6000004    1.6999998    1.8000002    1.9000006\n",
            "   2.           2.1000004    2.1999998    2.3000002    2.4000006\n",
            "   2.5          2.6000004    2.6999998    2.8000002    2.9000006\n",
            "   3.           3.1000004    3.1999998    3.3000002    3.4000006\n",
            "   3.5          3.6000004    3.6999998    3.8000002    3.9000006\n",
            "   4.           4.1000004    4.2          4.3          4.4000006\n",
            "   4.5          4.6000004    4.7          4.8          4.9000006\n",
            "   5.           5.1000004    5.2          5.3          5.4000006\n",
            "   5.5          5.6000004    5.7          5.8          5.9000006\n",
            "   6.           6.1000004    6.200001     6.300001     6.3999996\n",
            "   6.5          6.6000004    6.700001     6.800001     6.8999996\n",
            "   7.           7.1000004    7.200001     7.300001     7.3999996\n",
            "   7.5          7.6000004    7.700001     7.800001     7.8999996\n",
            "   8.           8.1          8.200001     8.300001     8.4\n",
            "   8.5          8.6          8.700001     8.800001     8.9\n",
            "   9.           9.1          9.200001     9.300001     9.4\n",
            "   9.5          9.6          9.700001     9.800001     9.9\n",
            "  10.        ], shape=(201,), dtype=float32)\n"
          ]
        }
      ]
    },
    {
      "cell_type": "code",
      "execution_count": null,
      "metadata": {
        "id": "JQvk_jnMmTDS",
        "colab": {
          "base_uri": "https://localhost:8080/"
        },
        "outputId": "5c70d29d-ec9c-4cb5-e772-81e2755befa9"
      },
      "outputs": [
        {
          "output_type": "stream",
          "name": "stdout",
          "text": [
            "tf.Tensor(\n",
            "[4.53978682e-05 5.01721843e-05 5.54485159e-05 6.12797521e-05\n",
            " 6.77241260e-05 7.48462262e-05 8.27172553e-05 9.14158591e-05\n",
            " 1.01029218e-04 1.11653302e-04 1.23366393e-04 1.36356830e-04\n",
            " 1.50717431e-04 1.66567232e-04 1.83995464e-04 2.03419055e-04\n",
            " 2.24778167e-04 2.48400233e-04 2.74463615e-04 3.03444540e-04\n",
            " 3.35312623e-04 3.70424765e-04 4.09375789e-04 4.52432781e-04\n",
            " 4.99952002e-04 5.52467944e-04 6.10485091e-04 6.74626499e-04\n",
            " 7.45455211e-04 8.23741953e-04 9.10226954e-04 1.00573874e-03\n",
            " 1.11131265e-03 1.22789398e-03 1.35669333e-03 1.49891921e-03\n",
            " 1.65598630e-03 1.82954292e-03 2.02120445e-03 2.23287800e-03\n",
            " 2.46652518e-03 2.72445590e-03 3.00932792e-03 3.32372868e-03\n",
            " 3.67067871e-03 4.05359641e-03 4.47605969e-03 4.94212657e-03\n",
            " 5.45618078e-03 6.02310384e-03 6.64812140e-03 7.33690709e-03\n",
            " 8.09593033e-03 8.93205591e-03 9.85276140e-03 1.08662415e-02\n",
            " 1.19813727e-02 1.32077541e-02 1.45557811e-02 1.60367247e-02\n",
            " 1.76627338e-02 1.94466617e-02 2.14024633e-02 2.35448945e-02\n",
            " 2.58895922e-02 2.84529887e-02 3.12524401e-02 3.43058780e-02\n",
            " 3.76318097e-02 4.12490070e-02 4.51766551e-02 4.94335108e-02\n",
            " 5.40380813e-02 5.90077043e-02 6.43582642e-02 7.01037124e-02\n",
            " 7.62549564e-02 8.28195363e-02 8.98003504e-02 9.71946865e-02\n",
            " 1.04993574e-01 1.13180287e-01 1.21729314e-01 1.30605757e-01\n",
            " 1.39763832e-01 1.49146467e-01 1.58684954e-01 1.68298364e-01\n",
            " 1.77894473e-01 1.87369928e-01 1.96611941e-01 2.05500335e-01\n",
            " 2.13909701e-01 2.21712887e-01 2.28784278e-01 2.35003725e-01\n",
            " 2.40260750e-01 2.44458303e-01 2.47516572e-01 2.49376044e-01\n",
            " 2.50000000e-01 2.49376029e-01 2.47516572e-01 2.44458303e-01\n",
            " 2.40260720e-01 2.35003725e-01 2.28784233e-01 2.21712887e-01\n",
            " 2.13909701e-01 2.05500260e-01 1.96611926e-01 1.87369838e-01\n",
            " 1.77894443e-01 1.68298334e-01 1.58684835e-01 1.49146467e-01\n",
            " 1.39763713e-01 1.30605787e-01 1.21729344e-01 1.13180175e-01\n",
            " 1.04993574e-01 9.71946642e-02 8.98003504e-02 8.28195885e-02\n",
            " 7.62549862e-02 7.01037124e-02 6.43582866e-02 5.90077341e-02\n",
            " 5.40381111e-02 4.94335368e-02 4.51766551e-02 4.12490331e-02\n",
            " 3.76317799e-02 3.43058519e-02 3.12524699e-02 2.84529887e-02\n",
            " 2.58896220e-02 2.35448945e-02 2.14025490e-02 1.94466617e-02\n",
            " 1.76627338e-02 1.60366967e-02 1.45558110e-02 1.32077541e-02\n",
            " 1.19812563e-02 1.08662117e-02 9.85279121e-03 8.93205591e-03\n",
            " 8.09587166e-03 7.33693689e-03 6.64809160e-03 6.02304516e-03\n",
            " 5.45615098e-03 4.94218525e-03 4.47605969e-03 4.05359641e-03\n",
            " 3.67070828e-03 3.32375849e-03 3.00932792e-03 2.72445590e-03\n",
            " 2.46652518e-03 2.23290781e-03 2.02120445e-03 1.82954292e-03\n",
            " 1.65598630e-03 1.49894902e-03 1.35666353e-03 1.22789398e-03\n",
            " 1.11134246e-03 1.00570894e-03 9.10226954e-04 8.23652721e-04\n",
            " 7.45514699e-04 6.74626499e-04 6.10455289e-04 5.52467944e-04\n",
            " 4.99952002e-04 4.52432781e-04 4.09435335e-04 3.70424765e-04\n",
            " 3.35342396e-04 3.03414738e-04 2.74523190e-04 2.48370430e-04\n",
            " 2.24778167e-04 2.03448843e-04 1.84025266e-04 1.66507642e-04\n",
            " 1.50657841e-04 1.36356830e-04 1.23366393e-04 1.11567446e-04\n",
            " 1.01019665e-04 9.14251650e-05 8.26648102e-05 7.48578314e-05\n",
            " 6.77062926e-05 6.12698204e-05 5.54292455e-05 5.01845934e-05\n",
            " 4.54166766e-05], shape=(201,), dtype=float32)\n"
          ]
        }
      ],
      "source": [
        "with tf.GradientTape() as tape:\n",
        "  tape.watch(x)                 \n",
        "  y = tf.nn.sigmoid(x)\n",
        "\n",
        "dy_dx = tape.gradient(y, x)\n",
        "print(dy_dx)"
      ]
    },
    {
      "cell_type": "code",
      "source": [
        "sdev = tf.nn.sigmoide(x)"
      ],
      "metadata": {
        "id": "DdEIRYAoTA5j"
      },
      "execution_count": null,
      "outputs": []
    },
    {
      "cell_type": "code",
      "execution_count": null,
      "metadata": {
        "id": "e_f2QgDPmcPE",
        "colab": {
          "base_uri": "https://localhost:8080/",
          "height": 279
        },
        "outputId": "84034036-7dd4-43f5-a404-5ef3df767c6c"
      },
      "outputs": [
        {
          "output_type": "display_data",
          "data": {
            "text/plain": [
              "<Figure size 432x288 with 1 Axes>"
            ],
            "image/png": "[encoded data removed]"
          },
          "metadata": {
            "needs_background": "light"
          }
        }
      ],
      "source": [
        "plt.plot(x, y, label='y')\n",
        "plt.plot(x, dy_dx, label='dy/dx')\n",
        "plt.legend()\n",
        "_ = plt.xlabel('x')"
      ]
    },
    {
      "cell_type": "markdown",
      "metadata": {
        "id": "6kADybtQzYj4"
      },
      "source": [
        "## Control flow\n",
        "\n",
        "Because a gradient tape records operations as they are executed, Python control flow is naturally handled (for example, `if` and `while` statements).\n",
        "\n",
        "Here a different variable is used on each branch of an `if`. The gradient only connects to the variable that was used:"
      ]
    },
    {
      "cell_type": "markdown",
      "source": [
        "그래디언트 테이프는 실행되는 연산을 기록하기 때문에 Python 제어 흐름이 자연스럽게 처리됩니다(예: `if` 및 `while` 구문).\n",
        "\n",
        "여기서는 `if`의 각 분기에 서로 다른 변수가 사용됩니다. 그래디언트는 사용된 변수에만 연결됩니다."
      ],
      "metadata": {
        "id": "F5x5DF3Pl0oO"
      }
    },
    {
      "cell_type": "code",
      "execution_count": null,
      "metadata": {
        "id": "ciFLizhrrjy7",
        "colab": {
          "base_uri": "https://localhost:8080/"
        },
        "outputId": "346ce81c-13db-4491-f742-9657471f3d4f"
      },
      "outputs": [
        {
          "output_type": "stream",
          "name": "stdout",
          "text": [
            "dv0 = tf.Tensor(1.0, shape=(), dtype=float32)\n",
            "dv1 = None\n"
          ]
        }
      ],
      "source": [
        "x = tf.constant(1.0)\n",
        "\n",
        "v0 = tf.Variable(2.0)\n",
        "v1 = tf.Variable(2.0)\n",
        "\n",
        "with tf.GradientTape(persistent=True) as tape:\n",
        "  tape.watch(x)\n",
        "  if x > 0.0:\n",
        "    result = v0\n",
        "  else:\n",
        "    result = v1**2 \n",
        "\n",
        "dv0, dv1 = tape.gradient(result, [v0, v1])\n",
        "\n",
        "print(\"dv0 =\", dv0)\n",
        "print(\"dv1 =\", dv1)            # else구문은 실행이 안되기때문에 미분할수없어서 None값 나옴"
      ]
    },
    {
      "cell_type": "markdown",
      "metadata": {
        "id": "HKnLaiapsjeP"
      },
      "source": [
        "Just remember that the control statements themselves are not differentiable, so they are invisible to gradient-based optimizers.\n",
        "\n",
        "Depending on the value of `x` in the above example, the tape either records `result = v0` or `result = v1**2`. The gradient with respect to `x` is always `None`."
      ]
    },
    {
      "cell_type": "markdown",
      "source": [
        "제어문 자체는 미분할 수 없으므로 그래디언트 기반 최적화 프로그램에는 보이지 않습니다.\n",
        "\n",
        "위 예제에서 `x` 값에 따라 테이프는 `result = v0` 또는 `result = v1**2`를 기록합니다. x에 대한 그래디언트는 항상 `None`입니다."
      ],
      "metadata": {
        "id": "DR3FDjn3Tg47"
      }
    },
    {
      "cell_type": "code",
      "execution_count": null,
      "metadata": {
        "id": "8k05WmuAwPm7",
        "colab": {
          "base_uri": "https://localhost:8080/"
        },
        "outputId": "cd1731c1-b81c-43e3-b0d5-cb4d30ffe749"
      },
      "outputs": [
        {
          "output_type": "stream",
          "name": "stdout",
          "text": [
            "None\n"
          ]
        }
      ],
      "source": [
        "dx = tape.gradient(result, x)\n",
        "\n",
        "print(dx)"
      ]
    },
    {
      "cell_type": "markdown",
      "metadata": {
        "id": "egypBxISAHhx"
      },
      "source": [
        "## Cases where `gradient` returns `None`\n",
        "\n",
        "When a target is not connected to a source, `gradient` will return `None`.\n"
      ]
    },
    {
      "cell_type": "markdown",
      "source": [
        "target이 소스에 연결되어 있지 않으면 그래디언트는 `None`을 반환합니다."
      ],
      "metadata": {
        "id": "RNSgUhpzmoAv"
      }
    },
    {
      "cell_type": "code",
      "execution_count": null,
      "metadata": {
        "id": "CU185WDM81Ut",
        "colab": {
          "base_uri": "https://localhost:8080/"
        },
        "outputId": "40bdb9ca-ff96-4432-fdad-ef1b78c5d114"
      },
      "outputs": [
        {
          "output_type": "stream",
          "name": "stdout",
          "text": [
            "None\n"
          ]
        }
      ],
      "source": [
        "x = tf.Variable(2.)\n",
        "y = tf.Variable(3.)\n",
        "\n",
        "with tf.GradientTape() as tape:\n",
        "  z = y * y\n",
        "\n",
        "  \n",
        "print(tape.gradient(z, x))"
      ]
    },
    {
      "cell_type": "markdown",
      "metadata": {
        "id": "sZbKpHfBRJym"
      },
      "source": [
        "Here `z` is obviously not connected to `x`, but there are several less-obvious ways that a gradient can be disconnected."
      ]
    },
    {
      "cell_type": "markdown",
      "source": [
        "여기서 `z`는 명확하게 `x`에 연결되어 있지 않지만, 그래디언트의 연결을 끊을 수 있는 몇 가지 덜 명확한 방법이 있습니다."
      ],
      "metadata": {
        "id": "l_-TtweYmwW2"
      }
    },
    {
      "cell_type": "markdown",
      "metadata": {
        "id": "eHDzDOiQ8xmw"
      },
      "source": [
        "### 1. Replaced a variable with a tensor\n",
        "\n",
        "In the section on [\"controlling what the tape watches\"](#watches) you saw that the tape will automatically watch a `tf.Variable` but not a `tf.Tensor`.\n",
        "\n",
        "One common error is to inadvertently replace a `tf.Variable` with a `tf.Tensor`, instead of using `Variable.assign` to update the `tf.Variable`. Here is an example:"
      ]
    },
    {
      "cell_type": "markdown",
      "source": [
        "[\"테이프의 감시 대상 제어\"](#watches) 섹션에서 테이프가 자동으로 `tf.Variable`을 감시하지만 `tf.Tensor`는 감시하지 않는 것을 살펴보았습니다.\n",
        "\n",
        "한 가지 일반적인 오류는 `Variable.assign`를 사용하여 `tf.Variable`를 업데이트하는 대신 실수로 `tf.Variable`을 `tf.Tensor`로 대체하는 것입니다. 예를 들면, 다음과 같습니다."
      ],
      "metadata": {
        "id": "RmlKkNfnm369"
      }
    },
    {
      "cell_type": "code",
      "execution_count": null,
      "metadata": {
        "id": "QPKY4Tn9zX7_",
        "colab": {
          "base_uri": "https://localhost:8080/"
        },
        "outputId": "0e1d1bc8-1bfb-4afc-f9e9-7c6f04c4088a"
      },
      "outputs": [
        {
          "output_type": "stream",
          "name": "stdout",
          "text": [
            "y= tf.Tensor(3.0, shape=(), dtype=float32)\n",
            "ResourceVariable : tf.Tensor(1.0, shape=(), dtype=float32)\n",
            "************************************************************\n",
            "x= tf.Tensor(3.0, shape=(), dtype=float32)\n",
            "y= tf.Tensor(4.0, shape=(), dtype=float32)\n",
            "EagerTensor : None\n",
            "************************************************************\n",
            "x= tf.Tensor(4.0, shape=(), dtype=float32)\n"
          ]
        }
      ],
      "source": [
        "x = tf.Variable(2.0)\n",
        "\n",
        "for epoch in range(2):\n",
        "  with tf.GradientTape() as tape:\n",
        "    y = x+1\n",
        "    print(\"y=\", y)\n",
        "\n",
        "  print(type(x).__name__, \":\", tape.gradient(y, x))\n",
        "\n",
        "  print(\"*\" * 60)\n",
        "  x = x + 1   # This should be `x.assign_add(1)`\n",
        "  print(\"x=\",x)"
      ]
    },
    {
      "cell_type": "markdown",
      "metadata": {
        "id": "3gwZKxgA97an"
      },
      "source": [
        "### 2. Did calculations outside of TensorFlow\n",
        "\n",
        "The tape can't record the gradient path if the calculation exits TensorFlow.\n",
        "For example:"
      ]
    },
    {
      "cell_type": "markdown",
      "source": [
        "계산에서 TensorFlow를 종료하면 테이프가 그래디언트 경로를 기록할 수 없습니다. 예를 들면, 다음과 같습니다."
      ],
      "metadata": {
        "id": "GC65E2SxqZsd"
      }
    },
    {
      "cell_type": "code",
      "execution_count": null,
      "metadata": {
        "id": "jmoLCDJb_yw1",
        "colab": {
          "base_uri": "https://localhost:8080/"
        },
        "outputId": "a526d4c9-cd4c-480f-f355-269ac8c1c2ed"
      },
      "outputs": [
        {
          "output_type": "stream",
          "name": "stdout",
          "text": [
            "tape.gradient(y, x) =  None\n"
          ]
        }
      ],
      "source": [
        "x = tf.Variable([[1.0, 2.0],\n",
        "                 [3.0, 4.0]], dtype=tf.float32)\n",
        "\n",
        "with tf.GradientTape() as tape:\n",
        "  x2 = x**2\n",
        "\n",
        "  # This step is calculated with NumPy\n",
        "  # y = tf.convert_to_tesor(np.mean(x2, axis=0))\n",
        "  y = np.mean(x2, axis=0)\n",
        "\n",
        "  # Like most ops, reduce_mean will cast the NumPy array to a constant tensor\n",
        "  # using `tf.convert_to_tensor`.\n",
        "  y = tf.reduce_mean(y, axis=0)\n",
        "\n",
        "print(\"tape.gradient(y, x) = \", tape.gradient(y, x))"
      ]
    },
    {
      "cell_type": "markdown",
      "metadata": {
        "id": "p3YVfP3R-tp7"
      },
      "source": [
        "### 3. Took gradients through an integer or string\n",
        "\n",
        "Integers and strings are not differentiable. If a calculation path uses these data types there will be no gradient.\n",
        "\n",
        "Nobody expects strings to be differentiable, but it's easy to accidentally create an `int` constant or variable if you don't specify the `dtype`."
      ]
    },
    {
      "cell_type": "markdown",
      "source": [
        "정수와 문자열은 구별할 수 없습니다. 계산 경로에서 이러한 데이터 유형을 사용하면 그래디언트는 없습니다.\n",
        "\n",
        "아무도 문자열을 미분할 것으로 기대하지는 않지만, `dtype`을 지정하지 않으면 실수로 `int` 상수 또는 변수를 만들기 쉽습니다."
      ],
      "metadata": {
        "id": "G9lviuVHrDQO"
      }
    },
    {
      "cell_type": "code",
      "execution_count": null,
      "metadata": {
        "id": "9jlHXHqfASU3",
        "colab": {
          "base_uri": "https://localhost:8080/"
        },
        "outputId": "af742845-38c5-420e-88d3-7dfad2eeea4b"
      },
      "outputs": [
        {
          "output_type": "stream",
          "name": "stderr",
          "text": [
            "WARNING:tensorflow:The dtype of the watched tensor must be floating (e.g. tf.float32), got tf.int32\n",
            "WARNING:tensorflow:The dtype of the target tensor must be floating (e.g. tf.float32) when calling GradientTape.gradient, got tf.int32\n",
            "WARNING:tensorflow:The dtype of the source tensor must be floating (e.g. tf.float32) when calling GradientTape.gradient, got tf.int32\n"
          ]
        },
        {
          "output_type": "stream",
          "name": "stdout",
          "text": [
            "None\n"
          ]
        }
      ],
      "source": [
        "x = tf.constant(10)\n",
        "\n",
        "with tf.GradientTape() as g:\n",
        "  g.watch(x)\n",
        "  y = x * x\n",
        "\n",
        "print(g.gradient(y, x))"
      ]
    },
    {
      "cell_type": "markdown",
      "metadata": {
        "id": "RsdP_mTHX9L1"
      },
      "source": [
        "TensorFlow doesn't automatically cast between types, so, in practice, you'll often get a type error instead of a missing gradient."
      ]
    },
    {
      "cell_type": "markdown",
      "metadata": {
        "id": "WyAZ7C8qCEs6"
      },
      "source": [
        "### 4. Took gradients through a stateful object\n",
        "\n",
        "State stops gradients. When you read from a stateful object, the tape can only observe the current state, not the history that lead to it.\n",
        "\n",
        "A `tf.Tensor` is immutable. You can't change a tensor once it's created. It has a _value_, but no _state_. All the operations discussed so far are also stateless: the output of a `tf.matmul` only depends on its inputs.\n",
        "\n",
        "A `tf.Variable` has internal state—its value. When you use the variable, the state is read. It's normal to calculate a gradient with respect to a variable, but the variable's state blocks gradient calculations from going farther back. For example:\n"
      ]
    },
    {
      "cell_type": "markdown",
      "source": [
        "State가 그래디언트를 중지합니다. stateful object 객체에서 읽을 때 테이프는 현재 상태만 볼 수 있으며 현재 상태에 이르게 된 기록은 볼 수 없습니다.\n",
        "\n",
        "`tf.Tensor`는 변경할 수 없습니다. 텐서가 작성된 후에는 변경할 수 없습니다. *값*은 있지만 *상태는* 없습니다. 지금까지 논의된 모든 연산은 상태 비저장입니다. `tf.matmul`의 출력은 입력에만 의존합니다.\n",
        "\n",
        "`tf.Variable`은 내부 상태와 값을 갖습니다. 변수를 사용하면 state를 read합니다. 변수와 관련하여 그래디언트를 계산하는 것이 일반적이지만, 변수의 state는 그래디언트 계산이 더 뒤로 가지 않도록 차단(x1.assign_add(x0))합니다. 예를 들어\n"
      ],
      "metadata": {
        "id": "yP30R21TrNkW"
      }
    },
    {
      "cell_type": "markdown",
      "source": [
        "> State : variable가 상태를 가지고 있다. \n",
        "> tensor는 상태를 저장하는게 없다.\n"
      ],
      "metadata": {
        "id": "qIUmVW5VrUwm"
      }
    },
    {
      "cell_type": "code",
      "execution_count": null,
      "metadata": {
        "id": "C1tLeeRFE479",
        "colab": {
          "base_uri": "https://localhost:8080/"
        },
        "outputId": "a2aebd7f-e331-4e2b-c96f-430a2130419c"
      },
      "outputs": [
        {
          "output_type": "stream",
          "name": "stdout",
          "text": [
            "None\n"
          ]
        }
      ],
      "source": [
        "x0 = tf.Variable(3.0)                   # 값이 아니라 메모리주소를 가지고있는것\n",
        "x1 = tf.Variable(0.0)\n",
        "\n",
        "with tf.GradientTape() as tape:\n",
        "  # Update x1 = x1 + x0.                # x1 + x0은 메모리 주소\n",
        "  # x1 = x1 + x0                        # record\n",
        "  x1.assign_add(x0)                     # x0이 가리키고있는 메모리주소로가서 3.0이라는 값을 읽어온다. # 이때 뒤로 가지않도록 차단한다는말 -> 기록을 안한다.(not record)\n",
        "  # The tape starts recording from x1.\n",
        "  y = x1**2   # y = (x1 + x0)**2        \n",
        "\n",
        "\n",
        "# This doesn't work.\n",
        "print(tape.gradient(y, x0))   #dy/dx0 = 2*(x1 + x0)         # 값을 읽었기때문에 \n",
        "\n",
        "# This work.\n",
        "# print(tape.gradient(y, x1)) "
      ]
    },
    {
      "cell_type": "markdown",
      "metadata": {
        "id": "xKA92-dqF2r-"
      },
      "source": [
        "**Similarly, `tf.data.Dataset` iterators and `tf.queue`s are stateful, and will stop all gradients on tensors that pass through them.**"
      ]
    },
    {
      "cell_type": "markdown",
      "source": [
        "마찬가지로, `tf.data.Dataset` 반복기(iterator)와 `tf.queue`는 상태 저장이며 이들을 통과하는 텐서의 모든 그래디언트를 중지합니다."
      ],
      "metadata": {
        "id": "XPsVurWkvAW_"
      }
    },
    {
      "cell_type": "markdown",
      "metadata": {
        "id": "HHvcDGIbOj2I"
      },
      "source": [
        "## No gradient registered"
      ]
    },
    {
      "cell_type": "markdown",
      "metadata": {
        "id": "aoc-A6AxVqry"
      },
      "source": [
        "Some `tf.Operation`s are **registered as being non-differentiable** and will return `None`. Others have **no gradient registered**.\n",
        "\n",
        "The `tf.raw_ops` page shows which low-level ops have gradients registered.\n",
        "\n",
        "If you attempt to take a gradient through a float op that has no gradient registered the tape will throw an error instead of silently returning `None`. This way you know something has gone wrong.\n",
        "\n",
        "For example, the `tf.image.adjust_contrast` function wraps `raw_ops.AdjustContrastv2`, which could have a gradient but the gradient is not implemented:\n"
      ]
    },
    {
      "cell_type": "markdown",
      "source": [
        "일부 `tf.Operation`는 **미분 불가능한 것으로 등록되어** `None`을 반환합니다. 다른 연산에는 **그래디언트가 등록되지 않았습니다**.\n",
        "\n",
        "`tf.raw_ops` 페이지에는 그래디언트가 등록된 저수준 op가 표시됩니다.\n",
        "\n",
        "그래디언트가 등록되지 않은 float op를 통해 그래디언트를 얻고자 시도하면 테이프가 자동으로 `None`을 반환하는 대신 오류가 발생합니다. 이렇게 하면 무언가 잘못되었다는 것을 알 수 있습니다.\n",
        "\n",
        "예를 들어, `tf.image.adjust_contrast` 함수는 그래디언트를 가질 수 있지만 그래디언트는 구현되지 않은 `raw_ops.AdjustContrastv2`를 래핑합니다.\n"
      ],
      "metadata": {
        "id": "Y3fNB0RYu20e"
      }
    },
    {
      "cell_type": "code",
      "execution_count": null,
      "metadata": {
        "id": "HSb20FXc_V0U",
        "colab": {
          "base_uri": "https://localhost:8080/"
        },
        "outputId": "1e3b78d4-0246-43b3-e86a-b14bba40f840"
      },
      "outputs": [
        {
          "output_type": "stream",
          "name": "stdout",
          "text": [
            "LookupError: gradient registry has no entry for: AdjustContrastv2\n"
          ]
        }
      ],
      "source": [
        "image = tf.Variable([[[0.5, 0.0, 0.0]]])\n",
        "delta = tf.Variable(0.1)\n",
        "\n",
        "with tf.GradientTape() as tape:\n",
        "  new_image = tf.image.adjust_contrast(image, delta)              # image.adjust_contrast : training data 전처리할 때 사용, 이미지 명암조절하는 함수, 미분대상X \n",
        "\n",
        "try:\n",
        "  print(tape.gradient(new_image, [image, delta]))\n",
        "  assert False   # This should not happen.\n",
        "except LookupError as e:\n",
        "  print(f'{type(e).__name__}: {e}')\n"
      ]
    },
    {
      "cell_type": "markdown",
      "metadata": {
        "id": "pDoutjzATiEm"
      },
      "source": [
        "If you need to differentiate through this op, you'll either need to implement the gradient and register it (using `tf.RegisterGradient`) or re-implement the function using other ops."
      ]
    },
    {
      "cell_type": "markdown",
      "source": [
        "이 op를 통해 미분해야 하는 경우, 그래디언트를 구현하고 등록하거나(`tf.RegisterGradient` 사용) 다른 ops를 사용하여 함수를 다시 구현해야 합니다."
      ],
      "metadata": {
        "id": "JVPsZnR9V2Nr"
      }
    },
    {
      "cell_type": "markdown",
      "metadata": {
        "id": "GCTwc_dQXp2W"
      },
      "source": [
        "## Zeros instead of None"
      ]
    },
    {
      "cell_type": "markdown",
      "metadata": {
        "id": "TYDrVogA89eA"
      },
      "source": [
        "In some cases it would be convenient to get 0 instead of `None` for unconnected gradients.  You can decide what to return when you have unconnected gradients using the `unconnected_gradients` argument:"
      ]
    },
    {
      "cell_type": "markdown",
      "source": [
        "연결되지 않은 그래디언트의 경우 `None` 대신 0을 가져오는 것이 편리한 경우가 있습니다. 연결되지 않은 그래디언트가 있을 때 `unconnected_gradients` 인수를 사용하여 반환할 항목을 결정할 수 있습니다."
      ],
      "metadata": {
        "id": "LDxrw3e6vrQ-"
      }
    },
    {
      "cell_type": "code",
      "execution_count": null,
      "metadata": {
        "id": "U6zxk1sf9Ixx",
        "colab": {
          "base_uri": "https://localhost:8080/"
        },
        "outputId": "583f9fb6-75eb-46d6-f034-c0840d0fa7f0"
      },
      "outputs": [
        {
          "output_type": "stream",
          "name": "stdout",
          "text": [
            "tf.Tensor([0. 0.], shape=(2,), dtype=float32)\n"
          ]
        }
      ],
      "source": [
        "x = tf.Variable([2., 2.])\n",
        "y = tf.Variable(3.)\n",
        "\n",
        "with tf.GradientTape() as tape:\n",
        "  z = y**2\n",
        "  \n",
        "print(tape.gradient(z, x, unconnected_gradients=tf.UnconnectedGradients.ZERO))"
      ]
    }
  ],
  "metadata": {
    "colab": {
      "provenance": [],
      "include_colab_link": true
    },
    "kernelspec": {
      "display_name": "Python 3",
      "name": "python3"
    }
  },
  "nbformat": 4,
  "nbformat_minor": 0
}