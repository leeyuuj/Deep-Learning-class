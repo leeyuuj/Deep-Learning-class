{
 "cells": [
  {
   "cell_type": "markdown",
   "metadata": {
    "id": "Tce3stUlHN0L"
   },
   "source": [
    "##### Copyright 2020 The TensorFlow Authors."
   ]
  },
  {
   "cell_type": "code",
   "execution_count": null,
   "metadata": {
    "execution": {
     "iopub.execute_input": "2022-04-27T01:32:56.081262Z",
     "iopub.status.busy": "2022-04-27T01:32:56.080658Z",
     "iopub.status.idle": "2022-04-27T01:32:56.084973Z",
     "shell.execute_reply": "2022-04-27T01:32:56.084396Z"
    },
    "id": "tuOe1ymfHZPu"
   },
   "outputs": [],
   "source": [
    "#@title Licensed under the Apache License, Version 2.0 (the \"License\");\n",
    "# you may not use this file except in compliance with the License.\n",
    "# You may obtain a copy of the License at\n",
    "#\n",
    "# https://www.apache.org/licenses/LICENSE-2.0\n",
    "#\n",
    "# Unless required by applicable law or agreed to in writing, software\n",
    "# distributed under the License is distributed on an \"AS IS\" BASIS,\n",
    "# WITHOUT WARRANTIES OR CONDITIONS OF ANY KIND, either express or implied.\n",
    "# See the License for the specific language governing permissions and\n",
    "# limitations under the License."
   ]
  },
  {
   "cell_type": "markdown",
   "metadata": {
    "id": "qFdPvlXBOdUN"
   },
   "source": [
    "# Introduction to Variables"
   ]
  },
  {
   "cell_type": "markdown",
   "metadata": {
    "id": "MfBg1C5NB3X0"
   },
   "source": [
    "<table class=\"tfo-notebook-buttons\" align=\"left\">\n",
    "  <td>\n",
    "    <a target=\"_blank\" href=\"https://www.tensorflow.org/guide/variable\"><img src=\"https://www.tensorflow.org/images/tf_logo_32px.png\" />View on TensorFlow.org</a>\n",
    "  </td>\n",
    "  <td>\n",
    "    <a target=\"_blank\" href=\"https://colab.research.google.com/github/tensorflow/docs/blob/master/site/en/guide/variable.ipynb\"><img src=\"https://www.tensorflow.org/images/colab_logo_32px.png\" />Run in Google Colab</a>\n",
    "  </td>\n",
    "  <td>\n",
    "    <a target=\"_blank\" href=\"https://github.com/tensorflow/docs/blob/master/site/en/guide/variable.ipynb\"><img src=\"https://www.tensorflow.org/images/GitHub-Mark-32px.png\" />View source on GitHub</a>\n",
    "  </td>\n",
    "  <td>\n",
    "    <a href=\"https://storage.googleapis.com/tensorflow_docs/docs/site/en/guide/variable.ipynb\"><img src=\"https://www.tensorflow.org/images/download_logo_32px.png\" />Download notebook</a>\n",
    "  </td>\n",
    "</table>"
   ]
  },
  {
   "cell_type": "markdown",
   "metadata": {
    "id": "AKhB9CMxndDs"
   },
   "source": [
    "A TensorFlow **variable** is the recommended way to represent shared, persistent state your program manipulates. This guide covers how to create, update, and manage instances of `tf.Variable` in TensorFlow.\n",
    "\n",
    "Variables are created and tracked via the `tf.Variable` class. A `tf.Variable` represents a tensor whose value can be changed by running ops on it.  Specific ops allow you to read and modify the values of this tensor. Higher level libraries like `tf.keras` use `tf.Variable` to store model parameters. "
   ]
  },
  {
   "cell_type": "markdown",
   "metadata": {
    "id": "JfePeHQo9Y3Y"
   },
   "source": [
    "TensorFlow 변수는 프로그램이 조작하는 공유 영구 상태를 나타내는 권장 방법입니다. 이 가이드는 TensorFlow에서 tf.Variable 인스턴스를 작성, 업데이트 및 관리하는 방법을 설명합니다.\n",
    "\n",
    "변수는 tf.Variable 클래스를 통해 생성 및 추적됩니다. tf.Variable은 ops를 실행하여 값을 변경할 수 있는 텐서를 나타냅니다. 특정 ops를 사용하면 이 텐서의 값을 읽고 수정할 수 있습니다. tf.keras와 같은 상위 수준의 라이브러리는 tf.Variable을 사용하여 모델 매개변수를 저장합니다."
   ]
  },
  {
   "cell_type": "markdown",
   "metadata": {
    "id": "xZoJJ4vdvTrD"
   },
   "source": [
    "## Setup\n",
    "\n",
    "This notebook discusses variable placement.  If you want to see on what device your variables are placed, uncomment this line."
   ]
  },
  {
   "cell_type": "markdown",
   "metadata": {
    "id": "GnP0c03y9bag"
   },
   "source": [
    "변수 배치에 대해 설명하는 노트북입니다. 변수가 어떤 기기에 배치되었는지 보려면 이 줄의 주석을 해제하세요."
   ]
  },
  {
   "cell_type": "code",
   "execution_count": null,
   "metadata": {
    "execution": {
     "iopub.execute_input": "2022-04-27T01:32:56.088956Z",
     "iopub.status.busy": "2022-04-27T01:32:56.088419Z",
     "iopub.status.idle": "2022-04-27T01:32:58.084182Z",
     "shell.execute_reply": "2022-04-27T01:32:58.083456Z"
    },
    "id": "7tUZJk7lDiGo"
   },
   "outputs": [],
   "source": [
    "import tensorflow as tf\n",
    "\n",
    "# Uncomment to see where your variables get placed (see below)\n",
    "# tf.debugging.set_log_device_placement(True)"
   ]
  },
  {
   "cell_type": "markdown",
   "metadata": {
    "id": "vORGXDarogWm"
   },
   "source": [
    "## Create a variable\n",
    "\n",
    "To create a variable, provide an initial value.  The `tf.Variable` will have the same `dtype` as the initialization value."
   ]
  },
  {
   "cell_type": "markdown",
   "metadata": {
    "id": "URM63uSB9dSI"
   },
   "source": [
    "변수를 작성하려면 초기값을 제공합니다. tf.Variable은 초기화 값과 같은 dtype을 갖습니다."
   ]
  },
  {
   "cell_type": "markdown",
   "metadata": {
    "id": "bUOVPTwFfabW"
   },
   "source": [
    "> variable은 mutable"
   ]
  },
  {
   "cell_type": "code",
   "execution_count": null,
   "metadata": {
    "colab": {
     "base_uri": "https://localhost:8080/"
    },
    "execution": {
     "iopub.execute_input": "2022-04-27T01:32:58.088313Z",
     "iopub.status.busy": "2022-04-27T01:32:58.087855Z",
     "iopub.status.idle": "2022-04-27T01:32:59.711009Z",
     "shell.execute_reply": "2022-04-27T01:32:59.710327Z"
    },
    "executionInfo": {
     "elapsed": 3,
     "status": "ok",
     "timestamp": 1664954152677,
     "user": {
      "displayName": "이유정",
      "userId": "09477403606858672505"
     },
     "user_tz": -540
    },
    "id": "dsYXSqleojj7",
    "outputId": "85a0ce43-7df5-4f3b-a3cb-e6973237f3dd"
   },
   "outputs": [
    {
     "name": "stdout",
     "output_type": "stream",
     "text": [
      "my_tensor= tf.Tensor(\n",
      "[[1. 2.]\n",
      " [3. 4.]], shape=(2, 2), dtype=float32) \n",
      "\n",
      "my_variable= <tf.Variable 'Variable:0' shape=(2, 2) dtype=float32, numpy=\n",
      "array([[1., 2.],\n",
      "       [3., 4.]], dtype=float32)> \n",
      "\n",
      "bool_variable= <tf.Variable 'Variable:0' shape=(4,) dtype=bool, numpy=array([False, False, False,  True])> \n",
      "\n",
      "complex_variable= <tf.Variable 'Variable:0' shape=(2,) dtype=complex128, numpy=array([5.+4.j, 6.+1.j])> \n",
      "\n"
     ]
    }
   ],
   "source": [
    "my_tensor = tf.constant([[1.0, 2.0], [3.0, 4.0]])\n",
    "print(\"my_tensor=\", my_tensor, \"\\n\")\n",
    "\n",
    "my_variable = tf.Variable(my_tensor)\n",
    "print(\"my_variable=\", my_variable, \"\\n\")\n",
    "\n",
    "# Variables can be all kinds of types, just like tensors\n",
    "bool_variable = tf.Variable([False, False, False, True])\n",
    "print(\"bool_variable=\", bool_variable, \"\\n\")\n",
    "\n",
    "complex_variable = tf.Variable([5 + 4j, 6 + 1j])\n",
    "print(\"complex_variable=\", complex_variable, \"\\n\")"
   ]
  },
  {
   "cell_type": "markdown",
   "metadata": {
    "id": "VQHwJ_Itoujf"
   },
   "source": [
    "A variable looks and acts like a tensor, and, in fact, is a data structure backed by a `tf.Tensor`.  Like tensors, they have a `dtype` and a shape, and can be exported to NumPy."
   ]
  },
  {
   "cell_type": "markdown",
   "metadata": {
    "id": "PhGVu5YL9fJa"
   },
   "source": [
    "변수는 텐서처럼 보이고 작동하며, 실제로 `tf.Tensor`에서 지원되는 데이터 구조입니다. 텐서와 마찬가지로, `dtype`과 형상을 가지며 NumPy로 내보낼 수 있습니다."
   ]
  },
  {
   "cell_type": "code",
   "execution_count": null,
   "metadata": {
    "colab": {
     "base_uri": "https://localhost:8080/"
    },
    "execution": {
     "iopub.execute_input": "2022-04-27T01:32:59.714409Z",
     "iopub.status.busy": "2022-04-27T01:32:59.714196Z",
     "iopub.status.idle": "2022-04-27T01:32:59.719914Z",
     "shell.execute_reply": "2022-04-27T01:32:59.719361Z"
    },
    "executionInfo": {
     "elapsed": 268,
     "status": "ok",
     "timestamp": 1664860365566,
     "user": {
      "displayName": "이유정",
      "userId": "09477403606858672505"
     },
     "user_tz": -540
    },
    "id": "GhNfPwCYpvlq",
    "outputId": "be9d4ca0-05bd-4e60-851b-d5bb868ec3db"
   },
   "outputs": [
    {
     "name": "stdout",
     "output_type": "stream",
     "text": [
      "Shape:  (2, 2)\n",
      "DType:  <dtype: 'float32'>\n",
      "As NumPy:  [[1. 2.]\n",
      " [3. 4.]]\n"
     ]
    }
   ],
   "source": [
    "print(\"Shape: \", my_variable.shape)\n",
    "print(\"DType: \", my_variable.dtype)\n",
    "print(\"As NumPy: \", my_variable.numpy())"
   ]
  },
  {
   "cell_type": "markdown",
   "metadata": {
    "id": "eZmSBYViqDoU"
   },
   "source": [
    "Most tensor operations work on variables as expected, although variables cannot be reshaped."
   ]
  },
  {
   "cell_type": "markdown",
   "metadata": {
    "id": "MyTx2_ew9jLw"
   },
   "source": [
    "변수를 재구성할 수는 없지만, 대부분의 텐서 연산은 예상대로 변수에 대해 작동합니다."
   ]
  },
  {
   "cell_type": "code",
   "execution_count": null,
   "metadata": {
    "colab": {
     "base_uri": "https://localhost:8080/"
    },
    "execution": {
     "iopub.execute_input": "2022-04-27T01:32:59.747228Z",
     "iopub.status.busy": "2022-04-27T01:32:59.746427Z",
     "iopub.status.idle": "2022-04-27T01:32:59.755569Z",
     "shell.execute_reply": "2022-04-27T01:32:59.754965Z"
    },
    "executionInfo": {
     "elapsed": 318,
     "status": "ok",
     "timestamp": 1662002956510,
     "user": {
      "displayName": "서성원",
      "userId": "03248215396884205789"
     },
     "user_tz": -540
    },
    "id": "TrIaExVNp_LK",
    "outputId": "640b4507-c36f-4f78-c94a-e2b9ef4f01e6"
   },
   "outputs": [
    {
     "name": "stdout",
     "output_type": "stream",
     "text": [
      "A variable: <tf.Variable 'Variable:0' shape=(2, 2) dtype=float32, numpy=\n",
      "array([[1., 2.],\n",
      "       [3., 4.]], dtype=float32)>\n",
      "\n",
      "Viewed as a tensor: tf.Tensor(\n",
      "[[1. 2.]\n",
      " [3. 4.]], shape=(2, 2), dtype=float32)\n",
      "\n",
      "Index of highest value: tf.Tensor([1 1], shape=(2,), dtype=int64)\n",
      "\n",
      "Copying and reshaping:  tf.Tensor([[1. 2. 3. 4.]], shape=(1, 4), dtype=float32)\n"
     ]
    }
   ],
   "source": [
    "print(\"A variable:\", my_variable)                                         # tf.Variable\n",
    "print(\"\\nViewed as a tensor:\", tf.convert_to_tensor(my_variable))         # tf.Tensor\n",
    "print(\"\\nIndex of highest value:\", tf.math.argmax(my_variable))           # tf.math.argmax : 가장 큰 값의 index값을 반환 => value:4 => index (1,1)\n",
    "\n",
    "# This creates a new tensor; it does not reshape the variable.\n",
    "print(\"\\nCopying and reshaping: \", tf.reshape(my_variable, [1,4]))"
   ]
  },
  {
   "cell_type": "markdown",
   "metadata": {
    "id": "_kxu_vSWBQ5D"
   },
   "source": [
    "### tf.Variable.assign : 텐서 재할당"
   ]
  },
  {
   "cell_type": "markdown",
   "metadata": {
    "id": "qbLCcG6Pc29Y"
   },
   "source": [
    "As noted above, variables are backed by tensors. You can reassign the tensor using `tf.Variable.assign`.  Calling `assign` does not (usually) allocate a new tensor; instead, the existing tensor's memory is reused."
   ]
  },
  {
   "cell_type": "markdown",
   "metadata": {
    "id": "s0Fe4SPX9lav"
   },
   "source": [
    "위에서 언급했듯이, 변수는 텐서에 의해 지원됩니다. `tf.Variable.assign`을 사용하여 텐서를 재할당할 수 있습니다.\n",
    "\n",
    " `assign`을 호출해도 (일반적으로) 새로운 텐서를 할당하지 않고, 대신 기존 텐서의 메모리가 재사용됩니다."
   ]
  },
  {
   "cell_type": "code",
   "execution_count": null,
   "metadata": {
    "colab": {
     "base_uri": "https://localhost:8080/"
    },
    "execution": {
     "iopub.execute_input": "2022-04-27T01:32:59.758716Z",
     "iopub.status.busy": "2022-04-27T01:32:59.758485Z",
     "iopub.status.idle": "2022-04-27T01:32:59.764833Z",
     "shell.execute_reply": "2022-04-27T01:32:59.764256Z"
    },
    "executionInfo": {
     "elapsed": 452,
     "status": "ok",
     "timestamp": 1662002984147,
     "user": {
      "displayName": "서성원",
      "userId": "03248215396884205789"
     },
     "user_tz": -540
    },
    "id": "yeEpO309QbB2",
    "outputId": "c13b94a5-ca2d-4068-c63c-ab0e061eda40"
   },
   "outputs": [
    {
     "name": "stdout",
     "output_type": "stream",
     "text": [
      "<tf.Variable 'Variable:0' shape=(2,) dtype=float32, numpy=array([2., 3.], dtype=float32)>\n",
      "<tf.Variable 'Variable:0' shape=(2,) dtype=float32, numpy=array([1., 2.], dtype=float32)>\n",
      "ValueError: Cannot assign value to variable ' Variable:0': Shape mismatch.The variable shape (2,), and the assigned value shape (3,) are incompatible.\n"
     ]
    }
   ],
   "source": [
    "a = tf.Variable([2.0, 3.0])\n",
    "print(a)\n",
    "# This will keep the same dtype, float32\n",
    "a.assign([1, 2]) \n",
    "print(a)\n",
    "# Not allowed as it resizes the variable: \n",
    "try:\n",
    "  a.assign([1.0, 2.0, 3.0])\n",
    "except Exception as e:\n",
    "  print(f\"{type(e).__name__}: {e}\")"
   ]
  },
  {
   "cell_type": "markdown",
   "metadata": {
    "id": "okeywjLdQ1tY"
   },
   "source": [
    "If you use a variable like a tensor in operations, you will usually operate on the backing tensor.  \n",
    "\n",
    "Creating new variables from existing variables duplicates the backing tensors. Two variables will not share the same memory."
   ]
  },
  {
   "cell_type": "markdown",
   "metadata": {
    "id": "yw9fJhqJ9p1X"
   },
   "source": [
    "연산에서 텐서와 같은 변수를 사용하는 경우, 일반적으로 지원 텐서에서 작동합니다.\n",
    "\n",
    "기존 변수에서 새 변수를 만들면 지원 텐서가 복제됩니다. 두 변수는 같은메모리를 공유하지 않습니다."
   ]
  },
  {
   "cell_type": "code",
   "execution_count": null,
   "metadata": {
    "colab": {
     "base_uri": "https://localhost:8080/"
    },
    "execution": {
     "iopub.execute_input": "2022-04-27T01:32:59.768008Z",
     "iopub.status.busy": "2022-04-27T01:32:59.767790Z",
     "iopub.status.idle": "2022-04-27T01:32:59.777311Z",
     "shell.execute_reply": "2022-04-27T01:32:59.776747Z"
    },
    "executionInfo": {
     "elapsed": 379,
     "status": "ok",
     "timestamp": 1662003060667,
     "user": {
      "displayName": "서성원",
      "userId": "03248215396884205789"
     },
     "user_tz": -540
    },
    "id": "2CnfGc6ucbXc",
    "outputId": "797fb4c4-b1c1-4540-b09a-0c0a5e694bff"
   },
   "outputs": [
    {
     "name": "stdout",
     "output_type": "stream",
     "text": [
      "a.numpy()= [5. 6.]\n",
      "b.numpy()= [2. 3.]\n",
      "[7. 9.]\n",
      "[0. 0.]\n"
     ]
    }
   ],
   "source": [
    "a = tf.Variable([2.0, 3.0])\n",
    "# Create b based on the value of a\n",
    "b = tf.Variable(a)\n",
    "a.assign([5, 6])\n",
    "\n",
    "# a and b are different\n",
    "print(\"a.numpy()=\", a.numpy())\n",
    "print(\"b.numpy()=\", b.numpy())\n",
    "\n",
    "# There are other versions of assign\n",
    "print(a.assign_add([2,3]).numpy())  # [7. 9.]\n",
    "print(a.assign_sub([7,9]).numpy())  # [0. 0.]               "
   ]
  },
  {
   "cell_type": "markdown",
   "metadata": {
    "id": "ZtzepotYUe7B"
   },
   "source": [
    "## Lifecycles, naming, and watching (수명 주기, 이름 지정 및 감시)\n",
    "\n",
    "In Python-based TensorFlow, `tf.Variable` instance have the same lifecycle as other Python objects. When there are no references to a variable it is automatically deallocated.\n",
    "\n",
    "Variables can also be named which can help you track and debug them.  You can give two variables the same name."
   ]
  },
  {
   "cell_type": "markdown",
   "metadata": {
    "id": "SfaBE7oA9sHg"
   },
   "source": [
    "파이썬 기반 TensorFlow에서 `tf.Variable` 인스턴스는 다른 Python 객체와 같은 수명 주기를 갖습니다. 변수에 대한 참조가 없으면 자동으로 할당이 해제됩니다.\n",
    "\n",
    "변수를 추적하고 디버그하는 데 도움이 되는 변수의 이름을 지정할 수도 있습니다. 두 변수에 같은 이름을 지정할 수 있습니다."
   ]
  },
  {
   "cell_type": "code",
   "execution_count": null,
   "metadata": {
    "colab": {
     "base_uri": "https://localhost:8080/"
    },
    "executionInfo": {
     "elapsed": 245,
     "status": "ok",
     "timestamp": 1664954706826,
     "user": {
      "displayName": "이유정",
      "userId": "09477403606858672505"
     },
     "user_tz": -540
    },
    "id": "NrRE32ToCKDh",
    "outputId": "34472c45-0af9-47dc-c5f6-ef42ee5f7c59"
   },
   "outputs": [
    {
     "name": "stdout",
     "output_type": "stream",
     "text": [
      "my_tensor= tf.Tensor(\n",
      "[[1. 2.]\n",
      " [3. 4.]], shape=(2, 2), dtype=float32) \n",
      "\n"
     ]
    }
   ],
   "source": [
    "my_tensor = tf.constant([[1.0, 2.0], [3.0, 4.0]])\n",
    "print(\"my_tensor=\", my_tensor, \"\\n\")"
   ]
  },
  {
   "cell_type": "code",
   "execution_count": null,
   "metadata": {
    "colab": {
     "base_uri": "https://localhost:8080/"
    },
    "execution": {
     "iopub.execute_input": "2022-04-27T01:32:59.781254Z",
     "iopub.status.busy": "2022-04-27T01:32:59.781048Z",
     "iopub.status.idle": "2022-04-27T01:32:59.787715Z",
     "shell.execute_reply": "2022-04-27T01:32:59.787163Z"
    },
    "executionInfo": {
     "elapsed": 343,
     "status": "ok",
     "timestamp": 1664954724388,
     "user": {
      "displayName": "이유정",
      "userId": "09477403606858672505"
     },
     "user_tz": -540
    },
    "id": "VBFbzKj8RaPf",
    "outputId": "28dc878b-9966-465d-fd29-bac47df03ffd"
   },
   "outputs": [
    {
     "name": "stdout",
     "output_type": "stream",
     "text": [
      "a= <tf.Variable 'Mark:0' shape=(2, 2) dtype=float32, numpy=\n",
      "array([[1., 2.],\n",
      "       [3., 4.]], dtype=float32)>\n"
     ]
    }
   ],
   "source": [
    "# Create a and b; they will have the same name but will be backed by\n",
    "# different tensors.\n",
    "a = tf.Variable(my_tensor, name=\"Mark\")\n",
    "print(\"a=\", a)"
   ]
  },
  {
   "cell_type": "code",
   "execution_count": null,
   "metadata": {
    "colab": {
     "base_uri": "https://localhost:8080/"
    },
    "executionInfo": {
     "elapsed": 307,
     "status": "ok",
     "timestamp": 1664860822898,
     "user": {
      "displayName": "이유정",
      "userId": "09477403606858672505"
     },
     "user_tz": -540
    },
    "id": "f5HXhFIIb93P",
    "outputId": "8d7a29e8-c5b3-4528-fa7e-d57a2a02d00f"
   },
   "outputs": [
    {
     "name": "stdout",
     "output_type": "stream",
     "text": [
      "b= <tf.Variable 'Mark:0' shape=(2, 2) dtype=float32, numpy=\n",
      "array([[2., 3.],\n",
      "       [4., 5.]], dtype=float32)>\n"
     ]
    }
   ],
   "source": [
    "# A new variable with the same name, but different value\n",
    "# Note that the scalar add is broadcast\n",
    "b = tf.Variable(my_tensor + 1, name=\"Mark\")\n",
    "print(\"b=\", b)"
   ]
  },
  {
   "cell_type": "code",
   "execution_count": null,
   "metadata": {
    "colab": {
     "base_uri": "https://localhost:8080/"
    },
    "executionInfo": {
     "elapsed": 264,
     "status": "ok",
     "timestamp": 1664860856909,
     "user": {
      "displayName": "이유정",
      "userId": "09477403606858672505"
     },
     "user_tz": -540
    },
    "id": "hD-dzaZOcA82",
    "outputId": "7e29a6da-342c-4eff-b03e-092d378e2072"
   },
   "outputs": [
    {
     "name": "stdout",
     "output_type": "stream",
     "text": [
      "tf.Tensor(\n",
      "[[False False]\n",
      " [False False]], shape=(2, 2), dtype=bool)\n"
     ]
    }
   ],
   "source": [
    "# These are elementwise-unequal, despite having the same name\n",
    "print(a == b)"
   ]
  },
  {
   "cell_type": "markdown",
   "metadata": {
    "id": "789QikItVA_E"
   },
   "source": [
    "Variable names are preserved when saving and loading models. By default, variables in models will acquire unique variable names automatically, so you don't need to assign them yourself unless you want to.\n",
    "\n",
    "Although variables are important for differentiation, some variables will not need to be differentiated.  You can turn off gradients for a variable by setting `trainable` to false at creation. An example of a variable that would not need gradients is a training step counter."
   ]
  },
  {
   "cell_type": "markdown",
   "metadata": {
    "id": "BpQMGMyo9vCn"
   },
   "source": [
    "모델을 저장하고 로드할 때 변수 이름이 유지됩니다. 기본적으로 모델의 변수는 고유한 변수 이름이 자동으로 지정되므로 원치 않는 한 직접 할당할 필요가 없습니다.\n",
    "\n",
    "변수는 구별을 위해 중요하지만, 일부 변수는 구별할 필요가 없습니다. 생성 시 `trainable`을 false로 설정하여 변수의 그래디언트를 끌 수 있습니다. 그래디언트가 필요하지 않은 변수의 예는 훈련 단계 카운터입니다."
   ]
  },
  {
   "cell_type": "code",
   "execution_count": null,
   "metadata": {
    "colab": {
     "base_uri": "https://localhost:8080/"
    },
    "execution": {
     "iopub.execute_input": "2022-04-27T01:32:59.790614Z",
     "iopub.status.busy": "2022-04-27T01:32:59.790382Z",
     "iopub.status.idle": "2022-04-27T01:32:59.794457Z",
     "shell.execute_reply": "2022-04-27T01:32:59.793932Z"
    },
    "executionInfo": {
     "elapsed": 3,
     "status": "ok",
     "timestamp": 1664954883792,
     "user": {
      "displayName": "이유정",
      "userId": "09477403606858672505"
     },
     "user_tz": -540
    },
    "id": "B5Sj1DqhbZvx",
    "outputId": "d0d5bbab-6482-41e2-fb7e-992a0a953819"
   },
   "outputs": [
    {
     "name": "stdout",
     "output_type": "stream",
     "text": [
      "<tf.Variable 'Variable:0' shape=() dtype=int32, numpy=1>\n",
      "<tf.Variable 'Variable:0' shape=() dtype=int32, numpy=1>\n"
     ]
    }
   ],
   "source": [
    "step_counter1 = tf.Variable(1, trainable=True)\n",
    "print(step_counter1)\n",
    "\n",
    "step_counter = tf.Variable(1, trainable=False)\n",
    "print(step_counter)"
   ]
  },
  {
   "cell_type": "markdown",
   "metadata": {
    "id": "DD_xfDLDTDNU"
   },
   "source": [
    "## Placing variables and tensors\n",
    "\n",
    "For better performance, TensorFlow will attempt to place tensors and variables on the fastest device compatible with its `dtype`.  This means most variables are placed on a GPU if one is available.\n",
    "\n",
    "However, you can override this.  In this snippet, place a float tensor and a variable on the CPU, even if a GPU is available.  By turning on device placement logging (see [Setup](#scrollTo=xZoJJ4vdvTrD)), you can see where the variable is placed. \n",
    "\n",
    "Note: Although manual placement works, using [distribution strategies](distributed_training.ipynb) can be a more convenient and scalable way to optimize your computation.\n",
    "\n",
    "If you run this notebook on different backends with and without a GPU you will see different logging.  *Note that logging device placement must be turned on at the start of the session.*"
   ]
  },
  {
   "cell_type": "markdown",
   "metadata": {
    "id": "f45OuQSZ9yvA"
   },
   "source": [
    "더 나은 성능을 위해 TensorFlow는 dtype과 호환되는 가장 빠른 기기에 텐서 및 변수를 배치하려고 시도합니다. 이는 대부분의 변수가 GPU(사용 가능한 경우)에 배치됨을 의미합니다.\n",
    "\n",
    "그러나 재정의할 수 있습니다. 다음 코드 조각에서는 GPU가 사용 가능한 경우에도 부동 텐서와 변수를 CPU에 배치할 수 있습니다. 기기 배치 로깅을 켜면(설정 참조) 변수가 어디에 배치되었는지 확인할 수 있습니다.\n",
    "\n",
    "참고: 수동 배치도 가능하지만, 분배 전략을 사용하면 계산을 최적화하는 더 편리하고 확장 가능한 방법이 될 수 있습니다.\n",
    "\n",
    "GPU가 있거나 없는 서로 다른 백엔드에서 이 노트북을 실행하면 서로 다른 로깅이 표시됩니다. 세션 시작 시 기기 배치 로깅을 켜야 합니다."
   ]
  },
  {
   "cell_type": "code",
   "execution_count": null,
   "metadata": {
    "execution": {
     "iopub.execute_input": "2022-04-27T01:32:59.797320Z",
     "iopub.status.busy": "2022-04-27T01:32:59.797116Z",
     "iopub.status.idle": "2022-04-27T01:32:59.849366Z",
     "shell.execute_reply": "2022-04-27T01:32:59.848750Z"
    },
    "id": "2SjpD7wVUSBJ",
    "outputId": "b9959b04-c663-4ce3-81b2-b376ce410020"
   },
   "outputs": [
    {
     "name": "stdout",
     "output_type": "stream",
     "text": [
      "tf.Tensor(\n",
      "[[22. 28.]\n",
      " [49. 64.]], shape=(2, 2), dtype=float32)\n"
     ]
    }
   ],
   "source": [
    "with tf.device('CPU:0'):\n",
    "\n",
    "  # Create some tensors\n",
    "  a = tf.Variable([[1.0, 2.0, 3.0], [4.0, 5.0, 6.0]])\n",
    "  b = tf.constant([[1.0, 2.0], [3.0, 4.0], [5.0, 6.0]])\n",
    "  c = tf.matmul(a, b)\n",
    "\n",
    "print(c)"
   ]
  },
  {
   "cell_type": "markdown",
   "metadata": {
    "id": "PXbh-p2BXKcr"
   },
   "source": [
    "It's possible to set the location of a variable or tensor on one device and do the computation on another device.  This will introduce delay, as data needs to be copied between the devices.\n",
    "\n",
    "You might do this, however, if you had multiple GPU workers but only want one copy of the variables."
   ]
  },
  {
   "cell_type": "markdown",
   "metadata": {
    "id": "UDAaAfA490lR"
   },
   "source": [
    "한 기기에서 변수 또는 텐서의 위치를 설정하고 다른 기기에서 계산을 수행할 수 있습니다. 이 경우, 기기 간에 데이터를 복사해야 하므로 지연이 발생합니다.\n",
    "\n",
    "GPU 작업자가 여러 개이지만 변수의 사본이 하나만 필요한 경우에 수행할 수 있습니다."
   ]
  },
  {
   "cell_type": "code",
   "execution_count": null,
   "metadata": {
    "execution": {
     "iopub.execute_input": "2022-04-27T01:32:59.852742Z",
     "iopub.status.busy": "2022-04-27T01:32:59.852529Z",
     "iopub.status.idle": "2022-04-27T01:32:59.859931Z",
     "shell.execute_reply": "2022-04-27T01:32:59.859324Z"
    },
    "id": "dgWHN3QSfNiQ",
    "outputId": "a179eae6-fb05-4ceb-adb0-0e1f9927dbbc"
   },
   "outputs": [
    {
     "name": "stdout",
     "output_type": "stream",
     "text": [
      "tf.Tensor(\n",
      "[[ 1.  4.  9.]\n",
      " [ 4. 10. 18.]], shape=(2, 3), dtype=float32)\n"
     ]
    }
   ],
   "source": [
    "with tf.device('CPU:0'):\n",
    "  a = tf.Variable([[1.0, 2.0, 3.0], [4.0, 5.0, 6.0]])\n",
    "  b = tf.Variable([[1.0, 2.0, 3.0]])\n",
    "\n",
    "with tf.device('GPU:0'):\n",
    "  # Element-wise multiply\n",
    "  k = a * b\n",
    "\n",
    "print(k)"
   ]
  },
  {
   "cell_type": "markdown",
   "metadata": {
    "id": "fksvRaqoYfay"
   },
   "source": [
    "Note: Because `tf.config.set_soft_device_placement` is turned on by default, even if you run this code on a device without a GPU, it will still run.  The multiplication step will happen on the CPU.\n",
    "\n",
    "For more on distributed training, refer to the [guide](distributed_training.ipynb)."
   ]
  },
  {
   "cell_type": "markdown",
   "metadata": {
    "id": "4aP-RCpX927Y"
   },
   "source": [
    "참고: `tf.config.set_soft_device_placement`는 기본적으로 켜져 있기 때문에 GPU가 없는 기기에서 이 코드를 실행하더라도 코드는 계속 실행되고 곱셈 단계는 CPU에서 발생합니다.\n",
    "\n",
    "분산 훈련에 대한 자세한 내용은 가이드를 참조하세요."
   ]
  },
  {
   "cell_type": "markdown",
   "metadata": {
    "id": "SzCkWlF2S4yo"
   },
   "source": [
    "## Next steps\n",
    "\n",
    "To understand how variables are typically used, see our guide on [automatic differentiation](autodiff.ipynb)."
   ]
  }
 ],
 "metadata": {
  "colab": {
   "provenance": []
  },
  "kernelspec": {
   "display_name": "Python 3 (ipykernel)",
   "language": "python",
   "name": "python3"
  },
  "language_info": {
   "codemirror_mode": {
    "name": "ipython",
    "version": 3
   },
   "file_extension": ".py",
   "mimetype": "text/x-python",
   "name": "python",
   "nbconvert_exporter": "python",
   "pygments_lexer": "ipython3",
   "version": "3.9.12"
  }
 },
 "nbformat": 4,
 "nbformat_minor": 1
}
