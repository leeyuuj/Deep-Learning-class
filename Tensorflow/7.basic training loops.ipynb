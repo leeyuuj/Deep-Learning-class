{
 "cells": [
  {
   "cell_type": "markdown",
   "metadata": {
    "id": "5rmpybwysXGV"
   },
   "source": [
    "##### Copyright 2020 The TensorFlow Authors."
   ]
  },
  {
   "cell_type": "code",
   "execution_count": null,
   "metadata": {
    "cellView": "form",
    "execution": {
     "iopub.execute_input": "2022-06-08T01:22:47.764044Z",
     "iopub.status.busy": "2022-06-08T01:22:47.763618Z",
     "iopub.status.idle": "2022-06-08T01:22:47.767339Z",
     "shell.execute_reply": "2022-06-08T01:22:47.766854Z"
    },
    "id": "m8y3rGtQsYP2"
   },
   "outputs": [],
   "source": [
    "#@title Licensed under the Apache License, Version 2.0 (the \"License\");\n",
    "# you may not use this file except in compliance with the License.\n",
    "# You may obtain a copy of the License at\n",
    "#\n",
    "# https://www.apache.org/licenses/LICENSE-2.0\n",
    "#\n",
    "# Unless required by applicable law or agreed to in writing, software\n",
    "# distributed under the License is distributed on an \"AS IS\" BASIS,\n",
    "# WITHOUT WARRANTIES OR CONDITIONS OF ANY KIND, either express or implied.\n",
    "# See the License for the specific language governing permissions and\n",
    "# limitations under the License."
   ]
  },
  {
   "cell_type": "markdown",
   "metadata": {
    "id": "hrXv0rU9sIma"
   },
   "source": [
    "# Basic training loops"
   ]
  },
  {
   "cell_type": "markdown",
   "metadata": {
    "id": "7S0BwJ_8sLu7"
   },
   "source": [
    "<table class=\"tfo-notebook-buttons\" align=\"left\">\n",
    "  <td>\n",
    "    <a target=\"_blank\" href=\"https://www.tensorflow.org/guide/basic_training_loops\"><img src=\"https://www.tensorflow.org/images/tf_logo_32px.png\" />View on TensorFlow.org</a>\n",
    "  </td>\n",
    "  <td>\n",
    "    <a target=\"_blank\" href=\"https://colab.research.google.com/github/tensorflow/docs/blob/master/site/en/guide/basic_training_loops.ipynb\"><img src=\"https://www.tensorflow.org/images/colab_logo_32px.png\" />Run in Google Colab</a>\n",
    "  </td>\n",
    "  <td>\n",
    "    <a target=\"_blank\" href=\"https://github.com/tensorflow/docs/blob/master/site/en/guide/basic_training_loops.ipynb\"><img src=\"https://www.tensorflow.org/images/GitHub-Mark-32px.png\" />View source on GitHub</a>\n",
    "  </td>\n",
    "  <td>\n",
    "    <a href=\"https://storage.googleapis.com/tensorflow_docs/docs/site/en/guide/basic_training_loops.ipynb\"><img src=\"https://www.tensorflow.org/images/download_logo_32px.png\" />Download notebook</a>\n",
    "  </td>\n",
    "</table>"
   ]
  },
  {
   "cell_type": "markdown",
   "metadata": {
    "id": "k2o3TTG4TFpt"
   },
   "source": [
    "In the previous guides, you have learned about [tensors](./tensor.ipynb), [variables](./variable.ipynb), [gradient tape](autodiff.ipynb), and [modules](./intro_to_modules.ipynb).  In this guide, you will fit these all together to train models.\n",
    "\n",
    "TensorFlow also includes the [tf.Keras API](https://www.tensorflow.org/guide/keras/overview), a high-level neural network API that provides useful abstractions to reduce boilerplate.  However, in this guide, you will use basic classes."
   ]
  },
  {
   "cell_type": "markdown",
   "metadata": {
    "id": "3LXMVuV0VhDr"
   },
   "source": [
    "## Setup"
   ]
  },
  {
   "cell_type": "code",
   "execution_count": null,
   "metadata": {
    "execution": {
     "iopub.execute_input": "2022-06-08T01:22:47.770547Z",
     "iopub.status.busy": "2022-06-08T01:22:47.770115Z",
     "iopub.status.idle": "2022-06-08T01:22:50.027914Z",
     "shell.execute_reply": "2022-06-08T01:22:50.027261Z"
    },
    "id": "NiolgWMPgpwI"
   },
   "outputs": [],
   "source": [
    "import tensorflow as tf\n",
    "\n",
    "import matplotlib.pyplot as plt\n",
    "\n",
    "colors = plt.rcParams['axes.prop_cycle'].by_key()['color']"
   ]
  },
  {
   "cell_type": "code",
   "execution_count": 1,
   "metadata": {
    "executionInfo": {
     "elapsed": 3308,
     "status": "ok",
     "timestamp": 1666833693641,
     "user": {
      "displayName": "이유정",
      "userId": "09477403606858672505"
     },
     "user_tz": -540
    },
    "id": "NlcukuwYBoih"
   },
   "outputs": [],
   "source": [
    "import tensorflow as tf\n",
    "\n",
    "import matplotlib.pyplot as plt\n",
    "\n",
    "colors = plt.rcParams['axes.prop_cycle'].by_key()['color']"
   ]
  },
  {
   "cell_type": "markdown",
   "metadata": {
    "id": "iKD__8kFCKNt"
   },
   "source": [
    "## Solving machine learning problems\n",
    "\n",
    "Solving a machine learning problem usually consists of the following steps:\n",
    "\n",
    " - Obtain training data.\n",
    " - Define the model.\n",
    " - Define a loss function.\n",
    " - Run through the training data, calculating loss from the ideal value\n",
    " - Calculate gradients for that loss and use an *optimizer* to adjust the variables to fit the data.\n",
    " - Evaluate your results.\n",
    "\n",
    "For illustration purposes, in this guide you'll develop a simple linear model, $f(x) = x * W + b$, which has two variables: $W$ (weights) and $b$ (bias).\n",
    "\n",
    "This is the most basic of machine learning problems:  Given $x$ and $y$, try to find the slope and offset of a line via  [simple linear regression](https://en.wikipedia.org/wiki/Linear_regression#Simple_and_multiple_linear_regression)."
   ]
  },
  {
   "cell_type": "markdown",
   "metadata": {
    "id": "kwS1RzEjZN25"
   },
   "source": [
    "머신러닝 문제 해결하기\n",
    "\n",
    "머신러닝 문제의 해결은 일반적으로 다음 단계로 구성됩니다.\n",
    "\n",
    "- 훈련 데이터를 얻습니다.\n",
    "- 모델을 정의합니다.\n",
    "- 손실 함수를 정의합니다.\n",
    "- 훈련 데이터를 실행하여 이상적인 값에서 손실을 계산합니다.\n",
    "- 손실에 대한 기울기를 계산하고 *최적화 프로그램* 를 사용하여 데이터에 맞게 변수를 조정합니다.\n",
    "- 결과를 평가합니다.\n",
    "\n",
    "설명을 위해 이 가이드에서는 $W$(가중치) 및 $b$(바이어스)의 두 가지 변수가 있는 간단한 선형 모델 $f(x) = x * W + b$를 개발합니다.\n",
    "\n",
    "이것이 가장 기본적인 머신러닝 문제입니다. $x$와 $y$가 주어지면 [간단한 선형 회귀](https://en.wikipedia.org/wiki/Linear_regression#Simple_and_multiple_linear_regression)를 통해 선의 기울기와 오프셋을 찾습니다."
   ]
  },
  {
   "cell_type": "markdown",
   "metadata": {
    "id": "qutT_fkl_CBc"
   },
   "source": [
    "## Data\n",
    "\n",
    "Supervised learning uses *inputs* (usually denoted as *x*) and *outputs* (denoted *y*, often called *labels*).  The goal is to learn from paired inputs and outputs so that you can predict the value of an output from an input.\n",
    "\n",
    "Each input of your data, in TensorFlow, is almost always represented by a tensor, and is often a vector. In supervised training, the output (or value you'd like to predict) is also a tensor.\n",
    "\n",
    "Here is some data synthesized by adding Gaussian (Normal) noise to points along a line."
   ]
  },
  {
   "cell_type": "markdown",
   "metadata": {
    "id": "whhHvosOZYv2"
   },
   "source": [
    "지도 학습은 *입력*(일반적으로 *x*로 표시됨)과 *출력*(*y*로 표시, 종종 *레이블*이라고 함)을 사용합니다. 목표는 입력에서 출력 값을 예측할 수 있도록 쌍을 이룬 입력과 출력에서 학습하는 것입니다.\n",
    "\n",
    "TensorFlow에서 데이터의 각 입력은 거의 항상 텐서로 표현되며, 종종 벡터입니다. 지도 학습에서 출력(또는 예측하려는 값)도 텐서입니다.\n",
    "\n",
    "다음은 선을 따라 점에 가우시안 (정규 분포) 노이즈를 추가하여 합성된 데이터입니다."
   ]
  },
  {
   "cell_type": "code",
   "execution_count": null,
   "metadata": {
    "execution": {
     "iopub.execute_input": "2022-06-08T01:22:50.031840Z",
     "iopub.status.busy": "2022-06-08T01:22:50.031462Z",
     "iopub.status.idle": "2022-06-08T01:22:53.024609Z",
     "shell.execute_reply": "2022-06-08T01:22:53.023910Z"
    },
    "id": "NzivK2ATByOz"
   },
   "outputs": [],
   "source": [
    "# The actual line\n",
    "TRUE_W = 3.0\n",
    "TRUE_B = 2.0\n",
    "\n",
    "NUM_EXAMPLES = 201\n",
    "\n",
    "# A vector of random x values\n",
    "x = tf.linspace(-2, 2, NUM_EXAMPLES)\n",
    "x = tf.cast(x, tf.float32)\n",
    "\n",
    "def f(x):\n",
    "  return x * TRUE_W + TRUE_B\n",
    "\n",
    "# Generate some noise\n",
    "noise = tf.random.normal(shape=[NUM_EXAMPLES])\n",
    "\n",
    "# Calculate y\n",
    "y = f(x) + noise"
   ]
  },
  {
   "cell_type": "code",
   "execution_count": 2,
   "metadata": {
    "executionInfo": {
     "elapsed": 447,
     "status": "ok",
     "timestamp": 1666834151890,
     "user": {
      "displayName": "이유정",
      "userId": "09477403606858672505"
     },
     "user_tz": -540
    },
    "id": "vjqQidpbC-H6"
   },
   "outputs": [],
   "source": [
    "# The actual line\n",
    "TRUE_W = 3.0\n",
    "TRUE_B = 2.0\n",
    "\n",
    "NUM_EXAMPLES = 201\n",
    "\n",
    "# A vector of random x values\n",
    "x = tf.linspace(-2, 2, NUM_EXAMPLES)\n",
    "x = tf.cast(x, tf.float32)\n",
    "\n",
    "def f(x):\n",
    "  return x * TRUE_W + TRUE_B\n",
    "\n",
    "# Generate some noise\n",
    "noise = tf.random.normal(shape=[NUM_EXAMPLES])\n",
    "\n",
    "# Calculate y\n",
    "y = f(x) + noise"
   ]
  },
  {
   "cell_type": "code",
   "execution_count": 7,
   "metadata": {
    "colab": {
     "base_uri": "https://localhost:8080/",
     "height": 265
    },
    "executionInfo": {
     "elapsed": 936,
     "status": "ok",
     "timestamp": 1666834206565,
     "user": {
      "displayName": "이유정",
      "userId": "09477403606858672505"
     },
     "user_tz": -540
    },
    "id": "3axwKRuhDsXx",
    "outputId": "fde6d5ad-e625-409f-aaae-1288c35a7b00"
   },
   "outputs": [
    {
     "data": {
      "image/png": "[encoded data removed]",
      "text/plain": [
       "<Figure size 432x288 with 1 Axes>"
      ]
     },
     "metadata": {
      "needs_background": "light"
     },
     "output_type": "display_data"
    }
   ],
   "source": [
    "# Plot all the data\n",
    "plt.plot(x, y, '.')\n",
    "plt.show()"
   ]
  },
  {
   "cell_type": "code",
   "execution_count": null,
   "metadata": {
    "execution": {
     "iopub.execute_input": "2022-06-08T01:22:53.028096Z",
     "iopub.status.busy": "2022-06-08T01:22:53.027618Z",
     "iopub.status.idle": "2022-06-08T01:22:53.237007Z",
     "shell.execute_reply": "2022-06-08T01:22:53.236356Z"
    },
    "id": "IlFd_HVBFGIF",
    "outputId": "c08ff471-562f-460f-c0dd-22ad5130e1dd"
   },
   "outputs": [
    {
     "data": {
      "image/png": "[encoded data removed]",
      "text/plain": [
       "<Figure size 432x288 with 1 Axes>"
      ]
     },
     "metadata": {
      "needs_background": "light"
     },
     "output_type": "display_data"
    }
   ],
   "source": [
    "# Plot all the data\n",
    "plt.plot(x, y, '.')\n",
    "plt.show()"
   ]
  },
  {
   "cell_type": "markdown",
   "metadata": {
    "id": "UH95XUzhL99d"
   },
   "source": [
    "Tensors are usually gathered together in *batches*, or groups of inputs and outputs stacked together.  Batching can confer some training benefits and works well with accelerators and vectorized computation.  Given how small this dataset is, you can treat the entire dataset as a single batch."
   ]
  },
  {
   "cell_type": "markdown",
   "metadata": {
    "id": "CWer9GTLapAv"
   },
   "source": [
    "텐서는 일반적으로 *배치* 또는 입력과 출력이 함께 쌓인 그룹의 형태로 수집됩니다. 일괄 처리는 몇 가지 훈련 이점을 제공할 수 있으며 가속기 및 벡터화된 계산에서 잘 동작합니다. 데이터세트가 얼마나 작은지를 고려할 때 전체 데이터세트를 단일 배치로 처리할 수 있습니다."
   ]
  },
  {
   "cell_type": "markdown",
   "metadata": {
    "id": "gFzH64Jn9PIm"
   },
   "source": [
    "## Define the model\n",
    "\n",
    "Use `tf.Variable` to represent all weights in a model.  A `tf.Variable` stores a value and provides this in tensor form as needed.  See the [variable guide](./variable.ipynb) for more details.\n",
    "\n",
    "Use `tf.Module` to encapsulate the variables and the computation.  You could use any Python object, but this way it can be easily saved.\n",
    "\n",
    "Here, you define both *w* and *b* as variables."
   ]
  },
  {
   "cell_type": "markdown",
   "metadata": {
    "id": "PaaTEHw6ar1H"
   },
   "source": [
    "모델 정의하기\n",
    "\n",
    "`tf.Variable`을 사용하여 모델의 모든 가중치를 나타냅니다. `tf.Variable`은 값을 저장하고 필요에 따라 텐서 형식으로 제공합니다. 자세한 내용은 [변수 가이드](./variable.ipynb)를 참조하세요.\n",
    "\n",
    "`tf.Module`을 사용하여 변수와 계산을 캡슐화합니다. 모든 Python 객체를 사용할 수 있지만 이렇게 하면 쉽게 저장할 수 있습니다.\n",
    "\n",
    "여기서 *w*와 *b*를 모두 변수로 정의합니다."
   ]
  },
  {
   "cell_type": "code",
   "execution_count": null,
   "metadata": {
    "execution": {
     "iopub.execute_input": "2022-06-08T01:22:53.262860Z",
     "iopub.status.busy": "2022-06-08T01:22:53.262213Z",
     "iopub.status.idle": "2022-06-08T01:22:53.272794Z",
     "shell.execute_reply": "2022-06-08T01:22:53.272230Z"
    },
    "id": "_WRu7Pze7wk8"
   },
   "outputs": [],
   "source": [
    "class MyModel(tf.Module):\n",
    "  def __init__(self, **kwargs):\n",
    "    super().__init__(**kwargs)\n",
    "    # Initialize the weights to `5.0` and the bias to `0.0`\n",
    "    # In practice, these should be randomly initialized\n",
    "    self.w = tf.Variable(5.0)\n",
    "    self.b = tf.Variable(0.0)\n",
    "\n",
    "  def __call__(self, x):\n",
    "    return self.w * x + self.b"
   ]
  },
  {
   "cell_type": "code",
   "execution_count": null,
   "metadata": {
    "colab": {
     "base_uri": "https://localhost:8080/"
    },
    "executionInfo": {
     "elapsed": 3,
     "status": "ok",
     "timestamp": 1665112190894,
     "user": {
      "displayName": "이유정",
      "userId": "09477403606858672505"
     },
     "user_tz": -540
    },
    "id": "ftTN6bf7a5g_",
    "outputId": "73d43b00-49f6-4f33-cf83-beaf811b9c80"
   },
   "outputs": [
    {
     "name": "stdout",
     "output_type": "stream",
     "text": [
      "Variables: (<tf.Variable 'Variable:0' shape=() dtype=float32, numpy=0.0>, <tf.Variable 'Variable:0' shape=() dtype=float32, numpy=5.0>)\n"
     ]
    }
   ],
   "source": [
    "model = MyModel()\n",
    "\n",
    "# List the variables tf.modules's built-in variable aggregation.\n",
    "print(\"Variables:\", model.variables)\n",
    "\n",
    "# Verify the model works\n",
    "assert model(3.0).numpy() == 15.0"
   ]
  },
  {
   "cell_type": "markdown",
   "metadata": {
    "id": "rdpN_3ssG9D5"
   },
   "source": [
    "The initial variables are set here in a fixed way, but Keras comes with any of a number of [initializers](https://www.tensorflow.org/api_docs/python/tf/keras/initializers) you could use, with or without the rest of Keras."
   ]
  },
  {
   "cell_type": "markdown",
   "metadata": {
    "id": "ZG8aKKmeau93"
   },
   "source": [
    "초기 변수는 여기에서 고정된 방식으로 설정되지만 Keras에는 나머지 Keras의 유무에 관계없이 사용할 수 있는 여러 [초기화 프로그램](https://www.tensorflow.org/api_docs/python/tf/keras/initializers)이 함께 제공됩니다."
   ]
  },
  {
   "cell_type": "markdown",
   "metadata": {
    "id": "xa6j_yXa-j79"
   },
   "source": [
    "### Define a loss function\n",
    "\n",
    "A loss function measures how well the output of a model for a given input matches the target output. The goal is to minimize this difference during training. Define the standard L2 loss, also known as the \"mean squared\" error:"
   ]
  },
  {
   "cell_type": "markdown",
   "metadata": {
    "id": "vGvcdzwKav94"
   },
   "source": [
    "손실 함수 정의하기\n",
    "\n",
    "손실 함수는 주어진 입력에 대한 모델의 출력이 목표 출력과 얼마나 잘 일치하는지 측정합니다. 목표는 훈련 중에 이러한 차이를 최소화하는 것입니다. \"평균 제곱\" 오류라고도 하는 표준 L2 손실을 정의합니다."
   ]
  },
  {
   "cell_type": "code",
   "execution_count": null,
   "metadata": {
    "execution": {
     "iopub.execute_input": "2022-06-08T01:22:53.275827Z",
     "iopub.status.busy": "2022-06-08T01:22:53.275351Z",
     "iopub.status.idle": "2022-06-08T01:22:53.278653Z",
     "shell.execute_reply": "2022-06-08T01:22:53.278109Z"
    },
    "id": "Y0ysUFGY924U"
   },
   "outputs": [],
   "source": [
    "# This computes a single loss value for an entire batch\n",
    "def loss(target_y, predicted_y):\n",
    "  return tf.reduce_mean(tf.square(target_y - predicted_y))"
   ]
  },
  {
   "cell_type": "markdown",
   "metadata": {
    "id": "-50nq-wPBsAW"
   },
   "source": [
    "Before training the model, you can visualize the loss value by plotting the model's predictions in red and the training data in blue:"
   ]
  },
  {
   "cell_type": "markdown",
   "metadata": {
    "id": "oaRAyN__bsvg"
   },
   "source": [
    "모델을 훈련하기 전에 모델의 예측을 빨간색으로, 훈련 데이터를 파란색으로 플롯하여 손실값을 시각화할 수 있습니다."
   ]
  },
  {
   "cell_type": "code",
   "execution_count": null,
   "metadata": {
    "colab": {
     "base_uri": "https://localhost:8080/",
     "height": 283
    },
    "execution": {
     "iopub.execute_input": "2022-06-08T01:22:53.281475Z",
     "iopub.status.busy": "2022-06-08T01:22:53.281070Z",
     "iopub.status.idle": "2022-06-08T01:22:53.404681Z",
     "shell.execute_reply": "2022-06-08T01:22:53.404083Z"
    },
    "executionInfo": {
     "elapsed": 855,
     "status": "ok",
     "timestamp": 1665112376625,
     "user": {
      "displayName": "이유정",
      "userId": "09477403606858672505"
     },
     "user_tz": -540
    },
    "id": "_eb83LtrB4nt",
    "outputId": "3e47156e-ded8-49cf-f5b5-2ac3872e3f48"
   },
   "outputs": [
    {
     "data": {
      "image/png": "[encoded data removed]",
      "text/plain": [
       "<Figure size 432x288 with 1 Axes>"
      ]
     },
     "metadata": {
      "needs_background": "light"
     },
     "output_type": "display_data"
    },
    {
     "name": "stdout",
     "output_type": "stream",
     "text": [
      "Current loss: 10.517460\n"
     ]
    }
   ],
   "source": [
    "plt.plot(x, y, '.', label=\"Data\")\n",
    "plt.plot(x, f(x), label=\"Ground truth\")\n",
    "plt.plot(x, model(x), label=\"Predictions\")\n",
    "plt.legend()\n",
    "plt.show()\n",
    "\n",
    "print(\"Current loss: %1.6f\" % loss(y, model(x)).numpy())"
   ]
  },
  {
   "cell_type": "markdown",
   "metadata": {
    "id": "sSDP-yeq_4jE"
   },
   "source": [
    "### Define a training loop\n",
    "\n",
    "The training loop consists of repeatedly doing three tasks in order:\n",
    "\n",
    "* Sending a batch of inputs through the model to generate outputs\n",
    "* Calculating the loss by comparing the outputs to the output (or label)\n",
    "* Using gradient tape to find the gradients\n",
    "* Optimizing the variables with those gradients\n",
    "\n",
    "For this example, you can train the model using [gradient descent](https://en.wikipedia.org/wiki/Gradient_descent).\n",
    "\n",
    "There are many variants of the gradient descent scheme that are captured in `tf.keras.optimizers`. But in the spirit of building from first principles, here you will implement the basic math yourself with the help of `tf.GradientTape` for automatic differentiation and `tf.assign_sub` for decrementing a value (which combines `tf.assign` and `tf.sub`):"
   ]
  },
  {
   "cell_type": "markdown",
   "metadata": {
    "id": "GicUngoRbuj_"
   },
   "source": [
    "훈련 루프 정의하기\n",
    "\n",
    "훈련 루프는 순서대로 3가지 작업을 반복적으로 수행하는 것으로 구성됩니다.\n",
    "\n",
    "- 모델을 통해 입력 배치를 전송하여 출력 생성\n",
    "- 출력을 출력(또는 레이블)과 비교하여 손실 계산\n",
    "- 그래디언트 테이프를 사용하여 그래디언트 찾기\n",
    "- 해당 그래디언트로 변수 최적화\n",
    "\n",
    "이 예제에서는 [경사 하강법](https://en.wikipedia.org/wiki/Gradient_descent)을 사용하여 모델을 훈련할 수 있습니다.\n",
    "\n",
    "`tf.keras.optimizers`에서 캡처되는 경사 하강법 체계에는 다양한 변형이 있습니다. 하지만 첫 번째 원칙을 준수하는 의미에서, 기본적인 수학을 직접 구현할 것입니다. 자동 미분을 위한 `tf.GradientTape` 및 값 감소를 위한 `tf.assign_sub`(`tf.assign`과 `tf.sub`를 결합하는 값)의 도움을 받습니다."
   ]
  },
  {
   "cell_type": "code",
   "execution_count": null,
   "metadata": {
    "execution": {
     "iopub.execute_input": "2022-06-08T01:22:53.407829Z",
     "iopub.status.busy": "2022-06-08T01:22:53.407371Z",
     "iopub.status.idle": "2022-06-08T01:22:53.411383Z",
     "shell.execute_reply": "2022-06-08T01:22:53.410807Z"
    },
    "id": "MBIACgdnA55X"
   },
   "outputs": [],
   "source": [
    "# Given a callable model, inputs, outputs, and a learning rate...\n",
    "def train(model, x, y, learning_rate):\n",
    "\n",
    "  with tf.GradientTape() as t:\n",
    "    # Trainable variables are automatically tracked by GradientTape\n",
    "    current_loss = loss(y, model(x))\n",
    "\n",
    "  # Use GradientTape to calculate the gradients with respect to W and b\n",
    "  dw, db = t.gradient(current_loss, [model.w, model.b])\n",
    "\n",
    "  # Subtract the gradient scaled by the learning rate\n",
    "  model.w.assign_sub(learning_rate * dw)\n",
    "  model.b.assign_sub(learning_rate * db)"
   ]
  },
  {
   "cell_type": "markdown",
   "metadata": {
    "id": "RwWPaJryD2aN"
   },
   "source": [
    "For a look at training, you can send the same batch of *x* and *y* through the training loop, and see how `W` and `b` evolve."
   ]
  },
  {
   "cell_type": "markdown",
   "metadata": {
    "id": "qxWqvrBgbxf_"
   },
   "source": [
    "훈련을 살펴보려면 훈련 루프를 통해 *x* 및 *y*의 같은 배치를 보내고 `W` 및 `b`가 발전하는 모양을 확인합니다."
   ]
  },
  {
   "cell_type": "code",
   "execution_count": null,
   "metadata": {
    "execution": {
     "iopub.execute_input": "2022-06-08T01:22:53.414492Z",
     "iopub.status.busy": "2022-06-08T01:22:53.413993Z",
     "iopub.status.idle": "2022-06-08T01:22:53.419818Z",
     "shell.execute_reply": "2022-06-08T01:22:53.419279Z"
    },
    "id": "XdfkR223D9dW"
   },
   "outputs": [],
   "source": [
    "model = MyModel()\n",
    "\n",
    "# Collect the history of W-values and b-values to plot later\n",
    "weights = []\n",
    "biases = []\n",
    "epochs = range(10)\n",
    "\n",
    "# Define a training loop\n",
    "def report(model, loss):\n",
    "  return f\"W = {model.w.numpy():1.2f}, b = {model.b.numpy():1.2f}, loss={loss:2.5f}\"\n",
    "\n",
    "\n",
    "def training_loop(model, x, y):\n",
    "\n",
    "  for epoch in epochs:\n",
    "    # Update the model with the single giant batch\n",
    "    train(model, x, y, learning_rate=0.1)\n",
    "\n",
    "    # Track this before I update\n",
    "    weights.append(model.w.numpy())\n",
    "    biases.append(model.b.numpy())\n",
    "    current_loss = loss(y, model(x))\n",
    "\n",
    "    print(f\"Epoch {epoch:2d}:\")\n",
    "    print(\"    \", report(model, current_loss))"
   ]
  },
  {
   "cell_type": "markdown",
   "metadata": {
    "id": "8dKKLU4KkQEq"
   },
   "source": [
    "Do the training"
   ]
  },
  {
   "cell_type": "code",
   "execution_count": null,
   "metadata": {
    "colab": {
     "base_uri": "https://localhost:8080/"
    },
    "execution": {
     "iopub.execute_input": "2022-06-08T01:22:53.423149Z",
     "iopub.status.busy": "2022-06-08T01:22:53.422588Z",
     "iopub.status.idle": "2022-06-08T01:22:53.456766Z",
     "shell.execute_reply": "2022-06-08T01:22:53.456180Z"
    },
    "executionInfo": {
     "elapsed": 2,
     "status": "ok",
     "timestamp": 1665112912412,
     "user": {
      "displayName": "이유정",
      "userId": "09477403606858672505"
     },
     "user_tz": -540
    },
    "id": "iRuNUghs1lHY",
    "outputId": "c9ad8d35-d47d-437d-df38-c9d24181aceb"
   },
   "outputs": [
    {
     "name": "stdout",
     "output_type": "stream",
     "text": [
      "Starting:\n",
      "     W = 3.09, b = 1.81, loss=1.06483\n"
     ]
    }
   ],
   "source": [
    "current_loss = loss(y, model(x))\n",
    "\n",
    "print(f\"Starting:\")\n",
    "print(\"    \", report(model, current_loss))"
   ]
  },
  {
   "cell_type": "code",
   "execution_count": null,
   "metadata": {
    "colab": {
     "base_uri": "https://localhost:8080/"
    },
    "executionInfo": {
     "elapsed": 297,
     "status": "ok",
     "timestamp": 1665112918063,
     "user": {
      "displayName": "이유정",
      "userId": "09477403606858672505"
     },
     "user_tz": -540
    },
    "id": "DXED3QNVdp_K",
    "outputId": "5ccaecd3-d847-4a50-c4d6-f5e4aa0074ee"
   },
   "outputs": [
    {
     "name": "stdout",
     "output_type": "stream",
     "text": [
      "Epoch  0:\n",
      "     W = 3.00, b = 2.01, loss=1.00750\n",
      "Epoch  1:\n",
      "     W = 3.00, b = 2.02, loss=1.00737\n",
      "Epoch  2:\n",
      "     W = 3.00, b = 2.02, loss=1.00728\n",
      "Epoch  3:\n",
      "     W = 3.00, b = 2.02, loss=1.00723\n",
      "Epoch  4:\n",
      "     W = 3.00, b = 2.02, loss=1.00719\n",
      "Epoch  5:\n",
      "     W = 3.00, b = 2.03, loss=1.00717\n",
      "Epoch  6:\n",
      "     W = 3.00, b = 2.03, loss=1.00716\n",
      "Epoch  7:\n",
      "     W = 3.00, b = 2.03, loss=1.00715\n",
      "Epoch  8:\n",
      "     W = 3.00, b = 2.03, loss=1.00714\n",
      "Epoch  9:\n",
      "     W = 3.00, b = 2.03, loss=1.00714\n"
     ]
    }
   ],
   "source": [
    "training_loop(model, x, y)"
   ]
  },
  {
   "cell_type": "markdown",
   "metadata": {
    "id": "JPJgimg8kSA4"
   },
   "source": [
    "Plot the evolution of the weights over time:"
   ]
  },
  {
   "cell_type": "code",
   "execution_count": null,
   "metadata": {
    "execution": {
     "iopub.execute_input": "2022-06-08T01:22:53.459717Z",
     "iopub.status.busy": "2022-06-08T01:22:53.459291Z",
     "iopub.status.idle": "2022-06-08T01:22:53.550743Z",
     "shell.execute_reply": "2022-06-08T01:22:53.550168Z"
    },
    "id": "ND1fQw8sbTNr",
    "outputId": "1b334cde-24d2-4b53-bc23-2f7ab56d7135"
   },
   "outputs": [
    {
     "data": {
      "image/png": "[encoded data removed]",
      "text/plain": [
       "<Figure size 432x288 with 1 Axes>"
      ]
     },
     "metadata": {
      "needs_background": "light"
     },
     "output_type": "display_data"
    }
   ],
   "source": [
    "plt.plot(epochs, weights, label='Weights', color=colors[0])\n",
    "plt.plot(epochs, [TRUE_W] * len(epochs), '--',\n",
    "         label = \"True weight\", color=colors[0])\n",
    "\n",
    "plt.plot(epochs, biases, label='bias', color=colors[1])\n",
    "plt.plot(epochs, [TRUE_B] * len(epochs), \"--\",\n",
    "         label=\"True bias\", color=colors[1])\n",
    "\n",
    "plt.legend()\n",
    "plt.show()"
   ]
  },
  {
   "cell_type": "markdown",
   "metadata": {
    "id": "zhlwj1ojkcUP"
   },
   "source": [
    "Visualize how the trained model performs"
   ]
  },
  {
   "cell_type": "code",
   "execution_count": null,
   "metadata": {
    "execution": {
     "iopub.execute_input": "2022-06-08T01:22:53.553956Z",
     "iopub.status.busy": "2022-06-08T01:22:53.553469Z",
     "iopub.status.idle": "2022-06-08T01:22:53.676196Z",
     "shell.execute_reply": "2022-06-08T01:22:53.675554Z"
    },
    "id": "tpTEjWWex568",
    "outputId": "27d7a17b-7ba8-4275-ddec-9bc72e9c77f9"
   },
   "outputs": [
    {
     "data": {
      "image/png": "[encoded data removed]",
      "text/plain": [
       "<Figure size 432x288 with 1 Axes>"
      ]
     },
     "metadata": {
      "needs_background": "light"
     },
     "output_type": "display_data"
    },
    {
     "name": "stdout",
     "output_type": "stream",
     "text": [
      "Current loss: 0.950985\n"
     ]
    }
   ],
   "source": [
    "plt.plot(x, y, '.', label=\"Data\")\n",
    "plt.plot(x, f(x), label=\"Ground truth\")             # Ground truth : lable이라함\n",
    "plt.plot(x, model(x), label=\"Predictions\")\n",
    "plt.legend()\n",
    "plt.show()\n",
    "\n",
    "print(\"Current loss: %1.6f\" % loss(model(x), y).numpy())"
   ]
  },
  {
   "cell_type": "markdown",
   "metadata": {
    "id": "DODMMmfLIiOC"
   },
   "source": [
    "## The same solution, but with Keras\n",
    "\n",
    "It's useful to contrast the code above with the equivalent in Keras.\n",
    "\n",
    "Defining the model looks exactly the same if you subclass `tf.keras.Model`.  Remember that Keras models inherit ultimately from module."
   ]
  },
  {
   "cell_type": "markdown",
   "metadata": {
    "id": "9e5S6mLvejhJ"
   },
   "source": [
    "위의 코드를 Keras의 해당 코드와 대조해 보면 유용합니다.\n",
    "\n",
    "`tf.keras.Model`을 하위 클래스화하면 모델 정의는 정확히 같게 보입니다. Keras 모델은 궁극적으로 모듈에서 상속한다는 것을 기억하세요."
   ]
  },
  {
   "cell_type": "code",
   "execution_count": null,
   "metadata": {
    "colab": {
     "base_uri": "https://localhost:8080/"
    },
    "execution": {
     "iopub.execute_input": "2022-06-08T01:22:53.679438Z",
     "iopub.status.busy": "2022-06-08T01:22:53.678986Z",
     "iopub.status.idle": "2022-06-08T01:22:53.720705Z",
     "shell.execute_reply": "2022-06-08T01:22:53.720125Z"
    },
    "executionInfo": {
     "elapsed": 315,
     "status": "ok",
     "timestamp": 1665113316062,
     "user": {
      "displayName": "이유정",
      "userId": "09477403606858672505"
     },
     "user_tz": -540
    },
    "id": "Z86hCI0x1YX3",
    "outputId": "b89abfd8-cf5b-402b-9a52-0f1f0aa03308"
   },
   "outputs": [
    {
     "name": "stdout",
     "output_type": "stream",
     "text": [
      "Epoch  0:\n",
      "     W = 4.46, b = 0.41, loss=6.52232\n",
      "Epoch  1:\n",
      "     W = 4.07, b = 0.73, loss=4.23178\n",
      "Epoch  2:\n",
      "     W = 3.78, b = 0.99, loss=2.90804\n",
      "Epoch  3:\n",
      "     W = 3.57, b = 1.20, loss=2.13676\n",
      "Epoch  4:\n",
      "     W = 3.42, b = 1.37, loss=1.68368\n",
      "Epoch  5:\n",
      "     W = 3.30, b = 1.50, loss=1.41534\n",
      "Epoch  6:\n",
      "     W = 3.22, b = 1.61, loss=1.25515\n",
      "Epoch  7:\n",
      "     W = 3.16, b = 1.69, loss=1.15880\n",
      "Epoch  8:\n",
      "     W = 3.12, b = 1.76, loss=1.10043\n",
      "Epoch  9:\n",
      "     W = 3.09, b = 1.81, loss=1.06483\n"
     ]
    }
   ],
   "source": [
    "class MyModelKeras(tf.keras.Model):\n",
    "  def __init__(self, **kwargs):\n",
    "    super().__init__(**kwargs)\n",
    "    # Initialize the weights to `5.0` and the bias to `0.0`\n",
    "    # In practice, these should be randomly initialized\n",
    "    self.w = tf.Variable(5.0)\n",
    "    self.b = tf.Variable(0.0)\n",
    "\n",
    "  def call(self, x):\n",
    "    return self.w * x + self.b\n",
    "\n",
    "keras_model = MyModelKeras()\n",
    "\n",
    "# Reuse the training loop with a Keras model\n",
    "training_loop(keras_model, x, y)\n",
    "\n",
    "# You can also save a checkpoint using Keras's built-in support\n",
    "keras_model.save_weights(\"my_checkpoint\")"
   ]
  },
  {
   "cell_type": "markdown",
   "metadata": {
    "id": "6kw5P4jt2Az8"
   },
   "source": [
    "Rather than write new training loops each time you create a model, you can use the built-in features of Keras as a shortcut.  This can be useful when you do not want to write or debug Python training loops.\n",
    "\n",
    "If you do, you will need to use `model.compile()` to set the parameters, and `model.fit()` to train.  It can be less code to use Keras implementations of L2 loss and gradient descent, again as a shortcut.  Keras losses and optimizers can be used outside of these convenience functions, too, and the previous example could have used them."
   ]
  },
  {
   "cell_type": "markdown",
   "metadata": {
    "id": "qXOQUMAmelig"
   },
   "source": [
    "모델을 생성할 때마다 새로운 훈련 루프를 작성하는 대신 Keras의 내장 기능을 바로 가기로 사용할 수 있습니다. Python 훈련 루프를 작성하거나 디버그하지 않으려는 경우 유용할 수 있습니다.\n",
    "\n",
    "그렇게 하려면, `model.compile()`을 사용하여 매개변수를 설정하고 `model.fit()`을 사용하여 훈련해야 합니다. L2 손실 및 경사 하강법의 Keras 구현을 바로 가기로 사용하면 코드가 적을 수 있습니다. Keras 손실 및 최적화 프록그램은 이러한 편의성 함수 외부에서 사용할 수 있으며 이전 예제에서 사용할 수 있습니다."
   ]
  },
  {
   "cell_type": "code",
   "execution_count": null,
   "metadata": {
    "execution": {
     "iopub.execute_input": "2022-06-08T01:22:53.723721Z",
     "iopub.status.busy": "2022-06-08T01:22:53.723259Z",
     "iopub.status.idle": "2022-06-08T01:22:53.734912Z",
     "shell.execute_reply": "2022-06-08T01:22:53.734339Z"
    },
    "id": "-nbLLfPE2pEl"
   },
   "outputs": [],
   "source": [
    "keras_model = MyModelKeras()\n",
    "\n",
    "# compile sets the training parameters\n",
    "keras_model.compile(\n",
    "    # By default, fit() uses tf.function().  You can\n",
    "    # turn that off for debugging, but it is on now.\n",
    "    run_eagerly=False,\n",
    "\n",
    "    # Using a built-in optimizer, configuring as an object\n",
    "    optimizer=tf.keras.optimizers.SGD(learning_rate=0.1),\n",
    "\n",
    "    # Keras comes with built-in MSE error\n",
    "    # However, you could use the loss function\n",
    "    # defined above\n",
    "    loss=tf.keras.losses.mean_squared_error,\n",
    ")"
   ]
  },
  {
   "cell_type": "markdown",
   "metadata": {
    "id": "lrlHODiZccu2"
   },
   "source": [
    "Keras `fit` expects batched data or a complete dataset as a NumPy array.  NumPy arrays are chopped into batches and default to a batch size of 32.\n",
    "\n",
    "In this case, to match the behavior of the hand-written loop, you should pass `x` in as a single batch of size 1000."
   ]
  },
  {
   "cell_type": "markdown",
   "metadata": {
    "id": "FcJwlizDfIew"
   },
   "source": [
    "Keras `fit` 배치 데이터 또는 전체 데이터세트를 NumPy 배열로 예상합니다. NumPy 배열은 배치로 분할되며, 기본 배치 크기는 32입니다.\n",
    "\n",
    "이 경우 손으로 쓴 루프의 동작과 일치시키려면 `x`를 크기 1000의 단일 배치로 전달해야 합니다."
   ]
  },
  {
   "cell_type": "code",
   "execution_count": null,
   "metadata": {
    "colab": {
     "base_uri": "https://localhost:8080/"
    },
    "execution": {
     "iopub.execute_input": "2022-06-08T01:22:53.738214Z",
     "iopub.status.busy": "2022-06-08T01:22:53.737763Z",
     "iopub.status.idle": "2022-06-08T01:22:54.073783Z",
     "shell.execute_reply": "2022-06-08T01:22:54.073103Z"
    },
    "executionInfo": {
     "elapsed": 434,
     "status": "ok",
     "timestamp": 1665113671390,
     "user": {
      "displayName": "이유정",
      "userId": "09477403606858672505"
     },
     "user_tz": -540
    },
    "id": "zfAYqtu136PO",
    "outputId": "3b43a284-dc99-46c0-920e-6507b6a3455d"
   },
   "outputs": [
    {
     "name": "stdout",
     "output_type": "stream",
     "text": [
      "201\n",
      "Epoch 1/10\n",
      "3/3 [==============================] - 0s 7ms/step - loss: 1.0610\n",
      "Epoch 2/10\n",
      "3/3 [==============================] - 0s 6ms/step - loss: 1.0248\n",
      "Epoch 3/10\n",
      "3/3 [==============================] - 0s 6ms/step - loss: 1.0231\n",
      "Epoch 4/10\n",
      "3/3 [==============================] - 0s 6ms/step - loss: 2.0296\n",
      "Epoch 5/10\n",
      "3/3 [==============================] - 0s 6ms/step - loss: 1.9255\n",
      "Epoch 6/10\n",
      "3/3 [==============================] - 0s 5ms/step - loss: 1.2747\n",
      "Epoch 7/10\n",
      "3/3 [==============================] - 0s 7ms/step - loss: 1.1722\n",
      "Epoch 8/10\n",
      "3/3 [==============================] - 0s 7ms/step - loss: 1.0145\n",
      "Epoch 9/10\n",
      "3/3 [==============================] - 0s 5ms/step - loss: 1.0215\n",
      "Epoch 10/10\n",
      "3/3 [==============================] - 0s 12ms/step - loss: 1.0284\n"
     ]
    },
    {
     "data": {
      "text/plain": [
       "<keras.callbacks.History at 0x7f9d0123dbd0>"
      ]
     },
     "execution_count": 18,
     "metadata": {},
     "output_type": "execute_result"
    }
   ],
   "source": [
    "print(x.shape[0])\n",
    "keras_model.fit(x, y, epochs=10, batch_size=1000)     # batch_size = 201로 해도 동일\n",
    "# keras_model.fit(x, y, epochs=100)                   # batch_size = 32, 201"
   ]
  },
  {
   "cell_type": "markdown",
   "metadata": {
    "id": "8zKZIO9P5s1G"
   },
   "source": [
    "Note that Keras prints out the loss after training, not before, so the first loss appears lower, but otherwise this shows essentially the same training performance."
   ]
  },
  {
   "cell_type": "markdown",
   "metadata": {
    "id": "BJyaMXRng_nB"
   },
   "source": [
    "Keras는 훈련 전이 아닌 훈련 후 손실을 출력하므로 첫 번째 손실이 더 낮게 나타나지만, 그렇지 않으면 본질적으로 같은 훈련 성능을 보여줍니다."
   ]
  },
  {
   "cell_type": "markdown",
   "metadata": {
    "id": "vPnIVuaSJwWz"
   },
   "source": [
    "## Next steps\n",
    "\n",
    "In this guide, you have seen how to use the core classes of tensors, variables, modules, and gradient tape to build and train a model, and further how those ideas map to Keras.\n",
    "\n",
    "This is, however, an extremely simple problem. For a more practical introduction, see [Custom training walkthrough](../tutorials/customization/custom_training_walkthrough.ipynb).\n",
    "\n",
    "For more on using built-in Keras training loops, see [this guide](https://www.tensorflow.org/guide/keras/train_and_evaluate).  For more on training loops and Keras, see [this guide](https://www.tensorflow.org/guide/keras/writing_a_training_loop_from_scratch).  For writing custom distributed training loops, see [this guide](distributed_training.ipynb#using_tfdistributestrategy_with_basic_training_loops_loops)."
   ]
  },
  {
   "cell_type": "markdown",
   "metadata": {
    "id": "3PAzlXILhAzL"
   },
   "source": [
    "이 가이드에서는 텐서, 변수, 모듈 및 그래디언트 테이프의 핵심 클래스를 사용하여 모델을 빌드하고 훈련하는 방법과 이러한 아이디어가 Keras에 매핑되는 방법을 살펴보았습니다.\n",
    "\n",
    "그러나 이것은 매우 단순한 문제입니다. 보다 실용적인 소개는 [사용자 정의 훈련 연습](../tutorials/customization/custom_training_walkthrough.ipynb)을 참조하세요.\n",
    "\n",
    "내장 Keras 훈련 루프의 사용에 관한 자세한 내용은 [이 가이드](https://www.tensorflow.org/guide/keras/train_and_evaluate)를 참조하세요. 훈련 루프 및 Keras에 관한 자세한 내용은 [이 가이드](https://www.tensorflow.org/guide/keras/writing_a_training_loop_from_scratch)를 참조하세요. 사용자 정의 분산 훈련 루프의 작성에 관해서는 [이 가이드](distributed_training.ipynb#using_tfdistributestrategy_with_basic_training_loops_loops)를 참조하세요."
   ]
  }
 ],
 "metadata": {
  "colab": {
   "collapsed_sections": [
    "5rmpybwysXGV",
    "iKD__8kFCKNt"
   ],
   "provenance": [],
   "toc_visible": true
  },
  "kernelspec": {
   "display_name": "Python 3 (ipykernel)",
   "language": "python",
   "name": "python3"
  },
  "language_info": {
   "codemirror_mode": {
    "name": "ipython",
    "version": 3
   },
   "file_extension": ".py",
   "mimetype": "text/x-python",
   "name": "python",
   "nbconvert_exporter": "python",
   "pygments_lexer": "ipython3",
   "version": "3.9.12"
  }
 },
 "nbformat": 4,
 "nbformat_minor": 1
}
